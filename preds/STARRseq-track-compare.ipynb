{
 "cells": [
  {
   "cell_type": "code",
   "execution_count": 1,
   "id": "4a0cb39a-fa9e-4d8a-9f29-20642e926336",
   "metadata": {},
   "outputs": [],
   "source": [
    "from pathlib import Path\n",
    "import pandas as pd\n",
    "import numpy as np\n",
    "import pyarrow as pa\n",
    "import pyarrow.parquet as pq\n",
    "import duckdb\n",
    "import re\n",
    "import matplotlib.pyplot as plt"
   ]
  },
  {
   "cell_type": "code",
   "execution_count": 3,
   "id": "e61259ee-248d-494a-806f-f1feda00420d",
   "metadata": {},
   "outputs": [],
   "source": [
    "DATA_ROOT = Path('../../igvf-pm/K562/leave-one-out')\n",
    "PRED_CSV_DIR = DATA_ROOT / 'cross-validation/slurm-normalized-mse/outputs'\n",
    "DB_BASE = Path('../../data')\n",
    "DB = DB_BASE / \"K562db\"\n",
    "CHROM = 'chr22'"
   ]
  },
  {
   "cell_type": "code",
   "execution_count": 5,
   "id": "9253646b-57c2-4c22-919a-cfa07b3ea561",
   "metadata": {},
   "outputs": [],
   "source": [
    "preds = pd.read_csv(PRED_CSV_DIR / (CHROM + '.csv'), sep=',', index_col=False, header=0)"
   ]
  },
  {
   "cell_type": "code",
   "execution_count": null,
   "id": "25b05a02-b50c-4cad-8f53-ce430d24f83a",
   "metadata": {},
   "outputs": [],
   "source": [
    "preds"
   ]
  },
  {
   "cell_type": "code",
   "execution_count": null,
   "id": "f67a433d-eb98-4c68-afd6-b7bceabbdeb8",
   "metadata": {},
   "outputs": [],
   "source": [
    "fig, ax = plt.subplots()\n",
    "fig.set_size_inches((10, 6))\n",
    "ax.scatter(np.log2(preds['true']), np.log2(preds['predicted']),\n",
    "           marker=\".\", alpha=0.4, linewidths=0)\n",
    "ax.set_xlim(-1.5, 2.5)\n",
    "ax.set_ylim(ax.get_xlim())\n",
    "ax.set_xlabel(\"true\")\n",
    "ax.set_ylabel(\"predicted\")\n",
    "plt.show()"
   ]
  },
  {
   "cell_type": "code",
   "execution_count": 8,
   "id": "92f7f117-376c-47a3-ade8-a2c53d587bb0",
   "metadata": {},
   "outputs": [],
   "source": [
    "starrdb = duckdb.read_parquet(f\"{DB}/**/*.parquet\", hive_partitioning = True)"
   ]
  },
  {
   "cell_type": "code",
   "execution_count": 9,
   "id": "9eacc88d-b1cb-48fb-b217-84f405a691f0",
   "metadata": {},
   "outputs": [
    {
     "data": {
      "application/vnd.jupyter.widget-view+json": {
       "model_id": "f8cafa5c01274e36904fbcb9cb7b2778",
       "version_major": 2,
       "version_minor": 0
      },
      "text/plain": [
       "FloatProgress(value=0.0, layout=Layout(width='auto'), style=ProgressStyle(bar_color='black'))"
      ]
     },
     "metadata": {},
     "output_type": "display_data"
    }
   ],
   "source": [
    "predsWithCoords = duckdb.sql(\"SELECT s.chrom, s.start, s.end, p.true, p.predicted \"\n",
    "                             \"FROM preds AS p JOIN starrdb AS s on (p.index = s.index) \"\n",
    "                             \"ORDER BY s.chrom, s.start\").df()"
   ]
  },
  {
   "cell_type": "code",
   "execution_count": null,
   "id": "1bba2b93-14c6-4e28-865f-e7161be6bdb7",
   "metadata": {},
   "outputs": [],
   "source": [
    "predsWithCoords"
   ]
  },
  {
   "cell_type": "code",
   "execution_count": 11,
   "id": "b261e68a-979d-41d1-a5c3-531f39457e42",
   "metadata": {},
   "outputs": [],
   "source": [
    "def plot_tracks(predsTable,\n",
    "                interval: (str, int, int),\n",
    "                ylim=(-1.2, 1.5),\n",
    "                convFunc=lambda x: np.log2(x),\n",
    "                ylabel=\"log2FC\",\n",
    "                value_cols={'true': 'true', 'predicted': 'predicted'}):\n",
    "    (chrom, start, end) = interval\n",
    "    preds_interval = duckdb.sql(\"select * from predsTable \" +\n",
    "                                f\"where chrom = '{chrom}' and \" +\n",
    "                                f\"start >= {start} and \\\"end\\\" <= {end}\").df()\n",
    "    fig, axs = plt.subplots(nrows=2, ncols=1, sharex=True, sharey=True)\n",
    "    fig.subplots_adjust(hspace=0)\n",
    "    axs[0].plot(preds_interval['start'], convFunc(preds_interval[value_cols['true']]))\n",
    "    axs[0].set_ylim(ylim)\n",
    "    axs[0].set_ylabel(value_cols['true'])\n",
    "    axs[1].plot(preds_interval['start'], convFunc(preds_interval[value_cols['predicted']]))\n",
    "    axs[1].set_ylabel(value_cols['predicted'])\n",
    "    axs[1].set_xlabel(\"Chromosome position\")\n",
    "    fig.supylabel(ylabel)\n",
    "    return fig, axs"
   ]
  },
  {
   "cell_type": "code",
   "execution_count": null,
   "id": "5770c42c-c508-4227-acb0-1bec2dbe11c7",
   "metadata": {},
   "outputs": [],
   "source": [
    "interval = (CHROM, 35_300_000, 35_600_000)\n",
    "\n",
    "plot_tracks(predsWithCoords, interval)\n",
    "plt.show()"
   ]
  },
  {
   "cell_type": "code",
   "execution_count": null,
   "id": "62a1589a-fea7-4198-89c4-970a8fb33015",
   "metadata": {},
   "outputs": [],
   "source": []
  }
 ],
 "metadata": {
  "kernelspec": {
   "display_name": "Python 3 (ipykernel)",
   "language": "python",
   "name": "python3"
  },
  "language_info": {
   "codemirror_mode": {
    "name": "ipython",
    "version": 3
   },
   "file_extension": ".py",
   "mimetype": "text/x-python",
   "name": "python",
   "nbconvert_exporter": "python",
   "pygments_lexer": "ipython3",
   "version": "3.11.10"
  }
 },
 "nbformat": 4,
 "nbformat_minor": 5
}
