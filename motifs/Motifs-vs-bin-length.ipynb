{
 "cells": [
  {
   "cell_type": "markdown",
   "metadata": {},
   "source": [
    "# Sequence bin lengths vs motif statistics\n",
    "\n",
    "We will comparatively assess the effects of different sequence bin windows, specifically 300bp vs 600bp windows, using distributions and other statistics of transcription factor motif matches resulting from a genome-wide scan.\n",
    "\n",
    "## Setup\n",
    "\n",
    "### Imports"
   ]
  },
  {
   "cell_type": "code",
   "execution_count": 1,
   "metadata": {},
   "outputs": [],
   "source": [
    "from pathlib import Path\n",
    "import pandas as pd\n",
    "import numpy as np\n",
    "import duckdb\n",
    "import matplotlib.pyplot as plt\n",
    "import seaborn as sns\n",
    "import sys\n",
    "sys.path.append('..')"
   ]
  },
  {
   "cell_type": "markdown",
   "metadata": {},
   "source": [
    "### Paths for data and databases"
   ]
  },
  {
   "cell_type": "code",
   "execution_count": 2,
   "metadata": {},
   "outputs": [],
   "source": [
    "PROJECT_ROOT = Path('/hpc/group/igvf')\n",
    "DB_ROOT = PROJECT_ROOT / 'db'\n",
    "DATA_ROOT = Path('../igvf-pm')\n",
    "MOTIFS_DB = DB_ROOT / 'motifs'\n",
    "STARR_DS = {\n",
    "    '300bp': 'A549-Dex-w300',\n",
    "    '600bp': 'A549-Dex-w600',\n",
    "}\n",
    "STARR_DB = {k: DB_ROOT / f'{ds}' for k, ds in STARR_DS.items()}"
   ]
  },
  {
   "cell_type": "markdown",
   "metadata": {},
   "source": [
    "## Map motif matches from genome-wide scan to STARRseq sequence bins\n",
    "\n",
    "We start with the database of significant matches (currently defined as p≤1e-8, corresponding to a q-value of ~0.05)."
   ]
  },
  {
   "cell_type": "code",
   "execution_count": 3,
   "metadata": {},
   "outputs": [
    {
     "name": "stdout",
     "output_type": "stream",
     "text": [
      "723249 signifiant motifs\n"
     ]
    }
   ],
   "source": [
    "motifs_db_signif = duckdb.read_parquet(f'{MOTIFS_DB}-signif.parquet')\n",
    "print(f\"{motifs_db_signif.count('motif_id').fetchone()[0]} signifiant motifs\")"
   ]
  },
  {
   "cell_type": "markdown",
   "metadata": {},
   "source": [
    "Open STARRseq database(s) to evaluate:"
   ]
  },
  {
   "cell_type": "code",
   "execution_count": 4,
   "metadata": {},
   "outputs": [],
   "source": [
    "data_dbs = {\n",
    "    k: duckdb.read_parquet(f\"{ds}/**/*.parquet\", hive_partitioning=True) for k, ds in STARR_DB.items()\n",
    "}"
   ]
  },
  {
   "cell_type": "markdown",
   "metadata": {},
   "source": [
    "Open the database(s) of motif matches mapped to STARRseq sequence bins. Where they don't exist yet, create them (this can take a while).\n",
    "\n",
    "For accepting a motif hit to a sequence bin, we require that the motif match to the genome lies fully within the sequence bin. "
   ]
  },
  {
   "cell_type": "code",
   "execution_count": 5,
   "metadata": {},
   "outputs": [
    {
     "name": "stdout",
     "output_type": "stream",
     "text": [
      "Opening existing motif hits database for 300bp dataset\n",
      "Opening existing motif hits database for 600bp dataset\n"
     ]
    }
   ],
   "source": [
    "hits_dbs = {}\n",
    "for k in data_dbs.keys():\n",
    "    data_db = data_dbs[k]\n",
    "    hits_db_file = f'{MOTIFS_DB}_{STARR_DS[k]}_hits.parquet'\n",
    "    if Path(hits_db_file).exists():\n",
    "        print(f\"Opening existing motif hits database for {k} dataset\")\n",
    "    else:\n",
    "        print(f\"Generating motif hits database for {k} dataset\")\n",
    "        from starrutil.dbutil import motif_hits_to_dataset\n",
    "        hits_dbs[k] = motif_hits_to_dataset(data_db, motifs_db_signif, verbose=True)\n",
    "        hits_dbs[k].to_parquet(hits_db_file)\n",
    "    hits_dbs[k] = duckdb.read_parquet(hits_db_file)"
   ]
  },
  {
   "cell_type": "markdown",
   "metadata": {},
   "source": [
    "How many sequence bins with at least one TF motif match do we have?"
   ]
  },
  {
   "cell_type": "code",
   "execution_count": null,
   "metadata": {},
   "outputs": [],
   "source": [
    "for k, hits_db in hits_dbs.items():\n",
    "    print(f\"Dataset {k} has {hits_db.count('chrom').fetchall()[0][0]:,} motif hits \" +\n",
    "          f\"to {hits_db.unique('chrom, seq_start').count('chrom').fetchall()[0][0]:,} sequence bins \" +\n",
    "          f\"(out of {data_dbs[k].count('chrom').fetchall()[0][0]:,} total bins)\")"
   ]
  },
  {
   "cell_type": "code",
   "execution_count": null,
   "metadata": {},
   "outputs": [],
   "source": [
    "fig, axs = plt.subplots(2, 1, figsize=(8, 8), sharex=True)\n",
    "fig.subplots_adjust(hspace=0.05)\n",
    "for i, (k, hits_db) in enumerate(hits_dbs.items()):\n",
    "    data_db = data_dbs[k]\n",
    "    starr_sample = duckdb.sql('select chrom, start, log2FC from data_db using sample 1000000').df()\n",
    "    h = axs[i].hist((starr_sample['log2FC'],\n",
    "                     hits_db.unique('chrom, seq_start, log2FC').df()['log2FC']),\n",
    "                    density=True, bins=40, label=('Random sample', 'Bins with motif hit(s)'))\n",
    "    if i == len(hits_dbs) - 1:\n",
    "        axs[i].set_xlabel('$\\log_2(\\Theta)$ of sequence bins')\n",
    "    axs[i].set_ylabel(f'Density ({k})')\n",
    "    axs[i].legend()\n",
    "axs[0].set_title(f'Distribution of $\\log_2(\\Theta)$ values')\n"
   ]
  },
  {
   "cell_type": "markdown",
   "metadata": {},
   "source": [
    "### Distribution of activations per motif\n",
    "\n",
    "First we need to compute the median log2FC statistics for each motif."
   ]
  },
  {
   "cell_type": "code",
   "execution_count": 8,
   "metadata": {},
   "outputs": [],
   "source": [
    "hit_stats = {}\n",
    "for k, hits_db in hits_dbs.items():\n",
    "    hit_stats[k] = hits_db.unique('chrom, seq_start, log2FC, motif_name')\\\n",
    "        .aggregate('motif_name, median(log2FC) as median_log2FC').df()\n",
    "hit_stats = pd.concat(hit_stats.values(), keys=hit_stats.keys(), names=['dataset'])"
   ]
  },
  {
   "cell_type": "markdown",
   "metadata": {},
   "source": [
    "We would expect that far less than all motifs show elevated activations in any given STARR-seq dataset (i.e., cell-line and treatment). Therefore, we will limit ourselves to looking a reasonably small number of motifs which for simplicity we refer to as \"active\". We define this as having a median activation higher than some threshold."
   ]
  },
  {
   "cell_type": "code",
   "execution_count": null,
   "metadata": {},
   "outputs": [],
   "source": [
    "med_log2FC_thresh = 0.0\n",
    "activeTFs = hit_stats[hit_stats['median_log2FC'] >= med_log2FC_thresh]\\\n",
    "    .groupby('motif_name').max('median_log2FC')\n",
    "activeTFs = activeTFs.reset_index(drop=False).sort_values('median_log2FC')\n",
    "with pd.option_context('display.max_rows', None):\n",
    "    display(activeTFs.reset_index(drop=True))"
   ]
  },
  {
   "cell_type": "markdown",
   "metadata": {},
   "source": [
    "We can now extract those sequence bins whose motif match(es) are among those motifs we consider \"active\"."
   ]
  },
  {
   "cell_type": "code",
   "execution_count": 10,
   "metadata": {},
   "outputs": [],
   "source": [
    "activeTFseqs = {}\n",
    "for k, hits_db in hits_dbs.items():\n",
    "    activeTFseqs[k] = duckdb.sql(\n",
    "        'select distinct hdb.motif_name, chrom, seq_start, log2FC '\n",
    "        'from hits_db hdb join activeTFs atf on (hdb.motif_name = atf.motif_name)').df()\n",
    "activeTFseqs = pd.concat(activeTFseqs.values(), keys=activeTFseqs.keys(), names=['dataset'])"
   ]
  },
  {
   "cell_type": "markdown",
   "metadata": {},
   "source": [
    "With this subset we make a boxplot of activations vs. motifs:"
   ]
  },
  {
   "cell_type": "code",
   "execution_count": null,
   "metadata": {},
   "outputs": [],
   "source": [
    "fig, ax = plt.subplots(figsize=(6, 10))\n",
    "sns.boxplot(y='motif_name', x='log2FC', data=activeTFseqs, hue='dataset',\n",
    "            order=activeTFs['motif_name'], fliersize=2, gap=0.2, ax=ax)\n",
    "ax.set_title(f'Motifs with median $\\log_2(\\Theta)\\geq {med_log2FC_thresh}$')\n",
    "ax.set_ylabel('Motif')\n",
    "ax.set_xlabel('$\\log_2(\\Theta)$ of sequence bins matching motif')\n",
    "ax.xaxis.grid(True)\n",
    "ax.axvline(0, color='black', linestyle='dotted')"
   ]
  },
  {
   "cell_type": "markdown",
   "metadata": {},
   "source": [
    "### Sequence bins with combinations of TF motifs\n",
    "\n",
    "Here we define motif combinations as the particular combination of motif hits (_num\\_hits_) for the same sequence bin. Motif combinations can consist of hits by the same or different motifs.\n",
    "\n",
    "We consider TF motifs different (_num\\_tfs_) if their motif IDs are different. Different motif IDs can still have the same name as a part of their _alt ID_. We report the motif names both in \"natural\" and in lexical order.\n",
    "\n",
    "For accepting a motif to be part of the combination for the sequence bin, we require that the last (by position) motif falling into a sequence bin starts after the first motif falling into the bin ends. I.e., at least the first and the last along the sequence bin don't overlap (but for a combination of _more_ than 2 motifs, others, such as the first and the second, may overlap)."
   ]
  },
  {
   "cell_type": "code",
   "execution_count": null,
   "metadata": {},
   "outputs": [],
   "source": [
    "TFcomb_hits = {}\n",
    "for k, hits_db in hits_dbs.items():\n",
    "    TFcomb_hits[k] = duckdb.sql('select chrom, seq_start, seq_end, '\n",
    "           'count(*) as num_hits, count(distinct motif_id) as num_tfs, '\n",
    "           'max(mot_start) - min(mot_start) as max_motif_dist, '\n",
    "           'group_concat(motif_name, \\', \\') as motif_names, '\n",
    "           'group_concat(motif_name, \\', \\' order by motif_name) as motif_names_o, '\n",
    "           'first(log2FC) as log2FC, '\n",
    "           'from hits_db mh '\n",
    "           'group by chrom, seq_start, seq_end '\n",
    "           'having num_hits > 1 and max(mot_start) > min(mot_stop) '\n",
    "           'order by chrom, seq_start').df()\n",
    "TFcomb_hits = pd.concat(TFcomb_hits.values(), keys=TFcomb_hits.keys(), names=['dataset'])\n",
    "TFcomb_hits.drop(columns=['motif_names_o'])"
   ]
  },
  {
   "cell_type": "markdown",
   "metadata": {},
   "source": [
    "#### Some comparative statistics for motif combinations\n",
    "\n",
    "Comparing the 300bp and 600bp datasets, how many sequence bin with multiple motif hits do we have compared to all sequence bins with a motif hit?"
   ]
  },
  {
   "cell_type": "code",
   "execution_count": 12,
   "metadata": {},
   "outputs": [
    {
     "name": "stdout",
     "output_type": "stream",
     "text": [
      "For dataset 300bp, of the 571,675 sequence bins with a motif hit, 6.6% (37,664) have more than one.\n",
      "For dataset 600bp, of the 1,173,736 sequence bins with a motif hit, 10.7% (125,918) have more than one.\n"
     ]
    }
   ],
   "source": [
    "for k, hits_db in hits_dbs.items():\n",
    "    seqs_with_motif = hits_db.unique('chrom, seq_start').count('chrom').fetchall()[0][0]\n",
    "    print(f'For dataset {k}, of the {seqs_with_motif:,} sequence bins with a motif hit, '+\n",
    "          f'{len(TFcomb_hits.loc[k])/seqs_with_motif:.1%} ({len(TFcomb_hits.loc[k]):,}) have more than one.')"
   ]
  },
  {
   "cell_type": "markdown",
   "metadata": {},
   "source": [
    "As we can see, the vast majority of seqence bins have only one motif match, although the 600bp dataset (expectedly) captures substantially more motif hits, both in absolute number and as a fraction of all motif hits.\n",
    "\n",
    "And for both datasets, for the vast majority of sequence bins with multiple motif hits the combination consists of either one or two motifs:"
   ]
  },
  {
   "cell_type": "code",
   "execution_count": 31,
   "metadata": {},
   "outputs": [
    {
     "data": {
      "text/plain": [
       "dataset  num_tfs\n",
       "300bp    1           34105\n",
       "         2            3502\n",
       "         3              49\n",
       "         4               3\n",
       "         5               3\n",
       "         6               2\n",
       "600bp    1          108297\n",
       "         2           17178\n",
       "         3             349\n",
       "         4              35\n",
       "         5              39\n",
       "         6              20\n",
       "Name: chrom, dtype: int64"
      ]
     },
     "execution_count": 31,
     "metadata": {},
     "output_type": "execute_result"
    }
   ],
   "source": [
    "TFcomb_hits.groupby(['dataset', 'num_tfs'])['chrom'].count()"
   ]
  },
  {
   "cell_type": "markdown",
   "metadata": {},
   "source": [
    "How many motif hits per sequence bin? For both datasets, the great majority of motif combination hits consist of two or three motifs (whether the same or different motifs). However, there are many hundreds of combination hits consisting of 4, 5, 6, etc motifs, with a few having dozens. (We cut off the below at 10.)"
   ]
  },
  {
   "cell_type": "code",
   "execution_count": 32,
   "metadata": {},
   "outputs": [
    {
     "data": {
      "text/plain": [
       "dataset  num_hits\n",
       "300bp    2            31567\n",
       "         3             1396\n",
       "         4              585\n",
       "         5              465\n",
       "         6              610\n",
       "         7              433\n",
       "         8              418\n",
       "         9              394\n",
       "         10             359\n",
       "600bp    2           103910\n",
       "         3             8944\n",
       "         4             1922\n",
       "         5             1441\n",
       "         6             1548\n",
       "         7             1114\n",
       "         8             1012\n",
       "         9              983\n",
       "         10             873\n",
       "Name: chrom, dtype: int64"
      ]
     },
     "execution_count": 32,
     "metadata": {},
     "output_type": "execute_result"
    }
   ],
   "source": [
    "t = TFcomb_hits.groupby(['dataset', 'num_hits'])['chrom'].count()\n",
    "t.loc[:,2:10]"
   ]
  },
  {
   "cell_type": "markdown",
   "metadata": {},
   "source": [
    "### Activations per motif combination"
   ]
  },
  {
   "cell_type": "markdown",
   "metadata": {},
   "source": [
    "Note that for these statistics, we use the lexically ordered motif names making up the combination, meaning we will ignore the order of motifs in the combination for treating combinations as the same or different, and will also ignore the motif's IDs."
   ]
  },
  {
   "cell_type": "code",
   "execution_count": null,
   "metadata": {},
   "outputs": [],
   "source": [
    "TFcomb_hits_reidx = TFcomb_hits.reset_index(drop=False, level='dataset')\n",
    "TFcomb_stats = duckdb.sql(\n",
    "    'select mh.dataset, mh.motif_names_o as motif_names, first(num_hits) as num_motifs, first(num_tfs) as num_tfs, '\n",
    "    'count(*) as num_seqs, '\n",
    "    'median(log2FC) as median_log2FC '\n",
    "    'from TFcomb_hits_reidx mh '\n",
    "    'group by mh.dataset, mh.motif_names_o ').df()\n",
    "TFcomb_stats.sort_values('median_log2FC', ascending=False).reset_index(drop=True)"
   ]
  },
  {
   "cell_type": "markdown",
   "metadata": {},
   "source": [
    "#### Distribution of activations per motif combination\n",
    "\n",
    "As for individual motifs (or TFs), we would expect that far less than all motif combinations show elevated activations in any given STARR-seq dataset (i.e., cell-line and treatment).\n",
    "\n",
    "Therefore, as we did for individual motifs, to limit ourselves to a reasonably small number of motif combinations which for simplicity we refer to as \"active\", we define \"active\" as having a median activation higher than some threshold. In addition, we require a minimum number of sequence bins with that combination, and we also limit the number of motifs making up the combination.\n",
    "\n",
    "Recall that here the order of motifs in a combination is ignored for deciding whether two combinations are the same. "
   ]
  },
  {
   "cell_type": "code",
   "execution_count": null,
   "metadata": {},
   "outputs": [],
   "source": [
    "med_log2FC_thresh = 0.1\n",
    "activeTFcombs = TFcomb_stats[(TFcomb_stats['median_log2FC'] >= med_log2FC_thresh) &\n",
    "                             (TFcomb_stats['num_seqs'] >= 9) &\n",
    "                             (TFcomb_stats['num_motifs'] <= 3)].groupby('motif_names').max('median_log2FC')\n",
    "activeTFcombs = activeTFcombs.reset_index(drop=False).sort_values('median_log2FC')\n",
    "with pd.option_context('display.max_rows', None):\n",
    "    display(activeTFcombs.reset_index(drop=True))"
   ]
  },
  {
   "cell_type": "markdown",
   "metadata": {},
   "source": [
    "Using the list of \"active\" motif combinations, we subset the sequence bins to those matching those combinations."
   ]
  },
  {
   "cell_type": "code",
   "execution_count": 28,
   "metadata": {},
   "outputs": [],
   "source": [
    "activeTFcomb_hits = TFcomb_hits[TFcomb_hits['motif_names_o'].isin(activeTFcombs['motif_names'])]\n",
    "activeTFcomb_hits = activeTFcomb_hits.drop(columns=['motif_names']).rename(columns={'motif_names_o': 'motif_names'})"
   ]
  },
  {
   "cell_type": "markdown",
   "metadata": {},
   "source": [
    "Now we can plot the distribution of activations per motif combination for each combination in the list. (Note that the majority of these motif combinations are motif pairs.)"
   ]
  },
  {
   "cell_type": "code",
   "execution_count": null,
   "metadata": {},
   "outputs": [],
   "source": [
    "fig, ax = plt.subplots(figsize=(6, 8))\n",
    "sns.boxplot(y='motif_names', x='log2FC', data=activeTFcomb_hits, hue='dataset',\n",
    "            order=activeTFcombs['motif_names'], fliersize=2, ax=ax)\n",
    "ax.set_title(f'Motif combinations with median $\\log_2(\\Theta)\\geq {med_log2FC_thresh}$')\n",
    "ax.set_ylabel('Motif combination')\n",
    "ax.tick_params(axis='y', labelrotation=45)\n",
    "ax.set_xlabel('$\\log_2(\\Theta)$ of sequence bins matching motif combination')\n",
    "ax.xaxis.grid(True)\n",
    "ax.axvline(0, color='black', linestyle='dotted')"
   ]
  },
  {
   "cell_type": "markdown",
   "metadata": {},
   "source": [
    "### Distribution of distances for motif combinations in sequence bins"
   ]
  },
  {
   "cell_type": "markdown",
   "metadata": {},
   "source": [
    "Distances are between pairs of motifs. However, recall that the distances we calculated are for the maximum distance between a pair in a combination. For combinations that are pairs, this is the same as the motif pair distance, but for combinations of more than 2 motifs, we are not enumerating the distances between all possible pairs."
   ]
  },
  {
   "cell_type": "code",
   "execution_count": null,
   "metadata": {},
   "outputs": [],
   "source": [
    "fig, ax = plt.subplots(figsize=(10, 6))\n",
    "h = ax.hist((TFcomb_hits.loc['300bp']['max_motif_dist'],\n",
    "             TFcomb_hits.loc['600bp']['max_motif_dist']),\n",
    "             bins=60, log=True, label=['300bp', '600bp'])\n",
    "ax.set_xlabel('Distance')\n",
    "ax.set_ylabel('Frequency')\n",
    "ax.set_title('Distribution of maximum distances between motifs on sequence bins')\n",
    "ax.legend()\n",
    "ax.grid(True)\n"
   ]
  },
  {
   "cell_type": "markdown",
   "metadata": {},
   "source": [
    "### Distribution of activations for motif pairs vs their distance\n",
    "\n",
    "For a better sense of presence or absence of a statistical change over the range of distances, we divide up the distances into bins, and then create a boxplot of activations vs distance bin."
   ]
  },
  {
   "cell_type": "code",
   "execution_count": 46,
   "metadata": {},
   "outputs": [],
   "source": [
    "dist_bin_w = 20\n",
    "TFcomb_dists = TFcomb_hits.copy()\n",
    "TFcomb_dists['dist_category'] = TFcomb_dists['max_motif_dist'] // dist_bin_w * dist_bin_w + dist_bin_w/2\n",
    "TFcomb_dists['dist_category'] = TFcomb_dists['dist_category'].astype(int)"
   ]
  },
  {
   "cell_type": "code",
   "execution_count": null,
   "metadata": {},
   "outputs": [],
   "source": [
    "fig, ax = plt.subplots(figsize=(10, 6))\n",
    "sns.boxplot(x='dist_category', y='log2FC', data=TFcomb_dists, hue='dataset',\n",
    "            native_scale=True, notch=True, fliersize=2, gap=0.2, ax=ax)\n",
    "ax.set_title('$\\log_2(\\Theta)$ of sequence bins with motif combination(s) vs motif distance')\n",
    "ax.set_xlabel('Maximum distance between motifs')\n",
    "ax.set_ylabel('$\\log_2(\\Theta)$ of sequence bins')\n",
    "ax.axhline(0, color='black', linestyle='dotted')"
   ]
  },
  {
   "cell_type": "code",
   "execution_count": null,
   "metadata": {},
   "outputs": [],
   "source": []
  }
 ],
 "metadata": {
  "kernelspec": {
   "display_name": "Python 3",
   "language": "python",
   "name": "python3"
  },
  "language_info": {
   "codemirror_mode": {
    "name": "ipython",
    "version": 3
   },
   "file_extension": ".py",
   "mimetype": "text/x-python",
   "name": "python",
   "nbconvert_exporter": "python",
   "pygments_lexer": "ipython3",
   "version": "3.11.10"
  }
 },
 "nbformat": 4,
 "nbformat_minor": 2
}
