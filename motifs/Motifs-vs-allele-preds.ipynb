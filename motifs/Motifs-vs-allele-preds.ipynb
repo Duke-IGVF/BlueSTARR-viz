{
 "cells": [
  {
   "cell_type": "markdown",
   "metadata": {},
   "source": [
    "# Predicted effects of mutations vs TF motif matches\n",
    "\n",
    "BlueSTARR model(s) trained on STARRseq data were used to predict the effect of mutations using in-silico saturated mutagenesis on the ENCODE list of cCRE regions. To generate these predictions, the trained BlueSTARR model is used to predict the activation of a sequence region centered on the cCRE, with the length of the sequence bins with which the model was trained (such as 300bp). This is the reference allele prediction. Then each base is mutated to all three alternative alleles, and the predicted activation of each mutated sequence is obtained (a total of 3x seqlen + 1 predictions for each cCRE).\n",
    "\n",
    "In this approach, the predicted effect of a mutation is the $\\log_2$ of the predicted activation of the mutated sequence minus $\\log_2$ of the predicted activation of the reference sequence.\n",
    "\n",
    "Here we investigate the concordance (or lack thereof) of transcription factor motif matches and the predicted effects of mutations.\n",
    "\n",
    "## Setup"
   ]
  },
  {
   "cell_type": "code",
   "execution_count": 1,
   "metadata": {},
   "outputs": [],
   "source": [
    "import duckdb\n",
    "import matplotlib.pyplot as plt\n",
    "import seaborn as sns\n",
    "from pathlib import Path\n",
    "\n",
    "import sys\n",
    "if '../' not in sys.path: sys.path.append('../')"
   ]
  },
  {
   "cell_type": "markdown",
   "metadata": {},
   "source": [
    "For now, we only have mutation predictions from a BlueSTARR model trained on K562 data using 300bp sequence bins. "
   ]
  },
  {
   "cell_type": "code",
   "execution_count": 5,
   "metadata": {},
   "outputs": [],
   "source": [
    "PROJECT_ROOT = Path('/hpc/group/igvf')\n",
    "DB_ROOT = PROJECT_ROOT / 'db'\n",
    "DATA_ROOT = Path('../../igvf-pm')\n",
    "MUT_PRED_DB = DB_ROOT / 'cCRE-preds-K562'\n",
    "MOTIFS_DB = DB_ROOT / 'motifs'"
   ]
  },
  {
   "cell_type": "markdown",
   "metadata": {},
   "source": [
    "## Open and/or create databases\n",
    "\n",
    "Open the database of predicted effects of saturated mutagenesis on cCREs. See [igvf_allelepred2db.py](../starrutil/igvf_allelepred2db.py) for how to generate this database from \"processed\" prediction tables. We also need the database of motif matches deemed to be significant as a result of a genome-wide scan. "
   ]
  },
  {
   "cell_type": "code",
   "execution_count": 7,
   "metadata": {},
   "outputs": [],
   "source": [
    "mutpreds = duckdb.read_parquet(str(DB_ROOT / f'{MUT_PRED_DB}/**/*.parquet'), hive_partitioning=True)\n",
    "motifs_db = duckdb.read_parquet(f'{MOTIFS_DB}-signif.parquet')"
   ]
  },
  {
   "cell_type": "code",
   "execution_count": 8,
   "metadata": {},
   "outputs": [
    {
     "name": "stdout",
     "output_type": "stream",
     "text": [
      "There are 816,826,569 mutations with predicted effect, and 723,249 motif matches deemed significant.\n"
     ]
    }
   ],
   "source": [
    "print(f\"There are {mutpreds.count('chrom').fetchall()[0][0]:,} mutations with predicted effect, \" +\n",
    "      f\"and {motifs_db.count('chrom').fetchall()[0][0]:,} motif matches deemed significant.\")"
   ]
  },
  {
   "cell_type": "markdown",
   "metadata": {},
   "source": [
    "### Match motif matches to cCRE mutations\n",
    "\n",
    "To make the query more performant, we use an optimization function that partitions the query, using the column by which the database of mutations is partitioned for partitioning the query.\n",
    "\n",
    "Note that we include a certain number of basepairs leading and trailing the motif match."
   ]
  },
  {
   "cell_type": "code",
   "execution_count": 9,
   "metadata": {},
   "outputs": [
    {
     "name": "stdout",
     "output_type": "stream",
     "text": [
      "Joining motif matches and mutations, one chromosome at a time.\n",
      "Running query for chrom='chr11'\n"
     ]
    },
    {
     "data": {
      "application/vnd.jupyter.widget-view+json": {
       "model_id": "8aaacbaa08074a01b71f3ffe4d681dc6",
       "version_major": 2,
       "version_minor": 0
      },
      "text/plain": [
       "FloatProgress(value=0.0, layout=Layout(width='auto'), style=ProgressStyle(bar_color='black'))"
      ]
     },
     "metadata": {},
     "output_type": "display_data"
    },
    {
     "name": "stdout",
     "output_type": "stream",
     "text": [
      "Running query for chrom='chr12'\n"
     ]
    },
    {
     "data": {
      "application/vnd.jupyter.widget-view+json": {
       "model_id": "31f8cc833c4d49dab3af8524c6918cf3",
       "version_major": 2,
       "version_minor": 0
      },
      "text/plain": [
       "FloatProgress(value=0.0, layout=Layout(width='auto'), style=ProgressStyle(bar_color='black'))"
      ]
     },
     "metadata": {},
     "output_type": "display_data"
    },
    {
     "name": "stdout",
     "output_type": "stream",
     "text": [
      "Running query for chrom='chr13'\n"
     ]
    },
    {
     "data": {
      "application/vnd.jupyter.widget-view+json": {
       "model_id": "79068f97970041cf94e0c8016f3c6c8a",
       "version_major": 2,
       "version_minor": 0
      },
      "text/plain": [
       "FloatProgress(value=0.0, layout=Layout(width='auto'), style=ProgressStyle(bar_color='black'))"
      ]
     },
     "metadata": {},
     "output_type": "display_data"
    },
    {
     "name": "stdout",
     "output_type": "stream",
     "text": [
      "Running query for chrom='chr19'\n"
     ]
    },
    {
     "data": {
      "application/vnd.jupyter.widget-view+json": {
       "model_id": "e7c91617f0234157b872f2a2d54ec218",
       "version_major": 2,
       "version_minor": 0
      },
      "text/plain": [
       "FloatProgress(value=0.0, layout=Layout(width='auto'), style=ProgressStyle(bar_color='black'))"
      ]
     },
     "metadata": {},
     "output_type": "display_data"
    },
    {
     "name": "stdout",
     "output_type": "stream",
     "text": [
      "Running query for chrom='chr2'\n"
     ]
    },
    {
     "data": {
      "application/vnd.jupyter.widget-view+json": {
       "model_id": "d9a6dedaae5e4d4dbc81632712e1deea",
       "version_major": 2,
       "version_minor": 0
      },
      "text/plain": [
       "FloatProgress(value=0.0, layout=Layout(width='auto'), style=ProgressStyle(bar_color='black'))"
      ]
     },
     "metadata": {},
     "output_type": "display_data"
    },
    {
     "name": "stdout",
     "output_type": "stream",
     "text": [
      "Running query for chrom='chr3'\n"
     ]
    },
    {
     "data": {
      "application/vnd.jupyter.widget-view+json": {
       "model_id": "3690f27757804fa2b550ffa00edcbdeb",
       "version_major": 2,
       "version_minor": 0
      },
      "text/plain": [
       "FloatProgress(value=0.0, layout=Layout(width='auto'), style=ProgressStyle(bar_color='black'))"
      ]
     },
     "metadata": {},
     "output_type": "display_data"
    },
    {
     "name": "stdout",
     "output_type": "stream",
     "text": [
      "Running query for chrom='chr5'\n"
     ]
    },
    {
     "data": {
      "application/vnd.jupyter.widget-view+json": {
       "model_id": "b09e0387e41c45d8a2531292697663f8",
       "version_major": 2,
       "version_minor": 0
      },
      "text/plain": [
       "FloatProgress(value=0.0, layout=Layout(width='auto'), style=ProgressStyle(bar_color='black'))"
      ]
     },
     "metadata": {},
     "output_type": "display_data"
    },
    {
     "name": "stdout",
     "output_type": "stream",
     "text": [
      "Running query for chrom='chr8'\n"
     ]
    },
    {
     "data": {
      "application/vnd.jupyter.widget-view+json": {
       "model_id": "d5661e82998b40d3bab5139344f85286",
       "version_major": 2,
       "version_minor": 0
      },
      "text/plain": [
       "FloatProgress(value=0.0, layout=Layout(width='auto'), style=ProgressStyle(bar_color='black'))"
      ]
     },
     "metadata": {},
     "output_type": "display_data"
    },
    {
     "name": "stdout",
     "output_type": "stream",
     "text": [
      "Running query for chrom='chr1'\n"
     ]
    },
    {
     "data": {
      "application/vnd.jupyter.widget-view+json": {
       "model_id": "74e19a330cdf45d09d80d9cc70c97c3e",
       "version_major": 2,
       "version_minor": 0
      },
      "text/plain": [
       "FloatProgress(value=0.0, layout=Layout(width='auto'), style=ProgressStyle(bar_color='black'))"
      ]
     },
     "metadata": {},
     "output_type": "display_data"
    },
    {
     "name": "stdout",
     "output_type": "stream",
     "text": [
      "Running query for chrom='chr22'\n"
     ]
    },
    {
     "data": {
      "application/vnd.jupyter.widget-view+json": {
       "model_id": "4d50a20616d246ac9ad7149c9d6abf53",
       "version_major": 2,
       "version_minor": 0
      },
      "text/plain": [
       "FloatProgress(value=0.0, layout=Layout(width='auto'), style=ProgressStyle(bar_color='black'))"
      ]
     },
     "metadata": {},
     "output_type": "display_data"
    },
    {
     "name": "stdout",
     "output_type": "stream",
     "text": [
      "Running query for chrom='chr14'\n"
     ]
    },
    {
     "data": {
      "application/vnd.jupyter.widget-view+json": {
       "model_id": "1ef9840b40784823bc8143527df8a5a0",
       "version_major": 2,
       "version_minor": 0
      },
      "text/plain": [
       "FloatProgress(value=0.0, layout=Layout(width='auto'), style=ProgressStyle(bar_color='black'))"
      ]
     },
     "metadata": {},
     "output_type": "display_data"
    },
    {
     "name": "stdout",
     "output_type": "stream",
     "text": [
      "Running query for chrom='chr16'\n"
     ]
    },
    {
     "data": {
      "application/vnd.jupyter.widget-view+json": {
       "model_id": "2b9a7433bcc545d2bbe9ca6d2b57c909",
       "version_major": 2,
       "version_minor": 0
      },
      "text/plain": [
       "FloatProgress(value=0.0, layout=Layout(width='auto'), style=ProgressStyle(bar_color='black'))"
      ]
     },
     "metadata": {},
     "output_type": "display_data"
    },
    {
     "name": "stdout",
     "output_type": "stream",
     "text": [
      "Running query for chrom='chr18'\n"
     ]
    },
    {
     "data": {
      "application/vnd.jupyter.widget-view+json": {
       "model_id": "e8fd274337364eeaa8aec27de585ebe7",
       "version_major": 2,
       "version_minor": 0
      },
      "text/plain": [
       "FloatProgress(value=0.0, layout=Layout(width='auto'), style=ProgressStyle(bar_color='black'))"
      ]
     },
     "metadata": {},
     "output_type": "display_data"
    },
    {
     "name": "stdout",
     "output_type": "stream",
     "text": [
      "Running query for chrom='chr21'\n"
     ]
    },
    {
     "data": {
      "application/vnd.jupyter.widget-view+json": {
       "model_id": "5672219efba34f39bbd48bc5506dd950",
       "version_major": 2,
       "version_minor": 0
      },
      "text/plain": [
       "FloatProgress(value=0.0, layout=Layout(width='auto'), style=ProgressStyle(bar_color='black'))"
      ]
     },
     "metadata": {},
     "output_type": "display_data"
    },
    {
     "name": "stdout",
     "output_type": "stream",
     "text": [
      "Running query for chrom='chr9'\n"
     ]
    },
    {
     "data": {
      "application/vnd.jupyter.widget-view+json": {
       "model_id": "62cda9be78584fcabe5330e868afed9d",
       "version_major": 2,
       "version_minor": 0
      },
      "text/plain": [
       "FloatProgress(value=0.0, layout=Layout(width='auto'), style=ProgressStyle(bar_color='black'))"
      ]
     },
     "metadata": {},
     "output_type": "display_data"
    },
    {
     "name": "stdout",
     "output_type": "stream",
     "text": [
      "Running query for chrom='chrX'\n"
     ]
    },
    {
     "data": {
      "application/vnd.jupyter.widget-view+json": {
       "model_id": "af103329f10b4b758f20320183ae3e52",
       "version_major": 2,
       "version_minor": 0
      },
      "text/plain": [
       "FloatProgress(value=0.0, layout=Layout(width='auto'), style=ProgressStyle(bar_color='black'))"
      ]
     },
     "metadata": {},
     "output_type": "display_data"
    },
    {
     "name": "stdout",
     "output_type": "stream",
     "text": [
      "Running query for chrom='chrY'\n",
      "Running query for chrom='chr10'\n"
     ]
    },
    {
     "data": {
      "application/vnd.jupyter.widget-view+json": {
       "model_id": "737b3a7d85a44e73b970ab1ab1698cee",
       "version_major": 2,
       "version_minor": 0
      },
      "text/plain": [
       "FloatProgress(value=0.0, layout=Layout(width='auto'), style=ProgressStyle(bar_color='black'))"
      ]
     },
     "metadata": {},
     "output_type": "display_data"
    },
    {
     "name": "stdout",
     "output_type": "stream",
     "text": [
      "Running query for chrom='chr15'\n"
     ]
    },
    {
     "data": {
      "application/vnd.jupyter.widget-view+json": {
       "model_id": "2bd4f666783e4e568982049473540460",
       "version_major": 2,
       "version_minor": 0
      },
      "text/plain": [
       "FloatProgress(value=0.0, layout=Layout(width='auto'), style=ProgressStyle(bar_color='black'))"
      ]
     },
     "metadata": {},
     "output_type": "display_data"
    },
    {
     "name": "stdout",
     "output_type": "stream",
     "text": [
      "Running query for chrom='chr17'\n"
     ]
    },
    {
     "data": {
      "application/vnd.jupyter.widget-view+json": {
       "model_id": "556818cb12264d1aa8720a8a1eee82d9",
       "version_major": 2,
       "version_minor": 0
      },
      "text/plain": [
       "FloatProgress(value=0.0, layout=Layout(width='auto'), style=ProgressStyle(bar_color='black'))"
      ]
     },
     "metadata": {},
     "output_type": "display_data"
    },
    {
     "name": "stdout",
     "output_type": "stream",
     "text": [
      "Running query for chrom='chr20'\n"
     ]
    },
    {
     "data": {
      "application/vnd.jupyter.widget-view+json": {
       "model_id": "eab334050bfc44949048dae486a7cce2",
       "version_major": 2,
       "version_minor": 0
      },
      "text/plain": [
       "FloatProgress(value=0.0, layout=Layout(width='auto'), style=ProgressStyle(bar_color='black'))"
      ]
     },
     "metadata": {},
     "output_type": "display_data"
    },
    {
     "name": "stdout",
     "output_type": "stream",
     "text": [
      "Running query for chrom='chr4'\n"
     ]
    },
    {
     "data": {
      "application/vnd.jupyter.widget-view+json": {
       "model_id": "fa074e646b054682823916c19ca3a50d",
       "version_major": 2,
       "version_minor": 0
      },
      "text/plain": [
       "FloatProgress(value=0.0, layout=Layout(width='auto'), style=ProgressStyle(bar_color='black'))"
      ]
     },
     "metadata": {},
     "output_type": "display_data"
    },
    {
     "name": "stdout",
     "output_type": "stream",
     "text": [
      "Running query for chrom='chr6'\n"
     ]
    },
    {
     "data": {
      "application/vnd.jupyter.widget-view+json": {
       "model_id": "167bde00da2941a899db344c33a30549",
       "version_major": 2,
       "version_minor": 0
      },
      "text/plain": [
       "FloatProgress(value=0.0, layout=Layout(width='auto'), style=ProgressStyle(bar_color='black'))"
      ]
     },
     "metadata": {},
     "output_type": "display_data"
    },
    {
     "name": "stdout",
     "output_type": "stream",
     "text": [
      "Running query for chrom='chr7'\n"
     ]
    },
    {
     "data": {
      "application/vnd.jupyter.widget-view+json": {
       "model_id": "590e795c6a64489cbb5a2bf2248ec52d",
       "version_major": 2,
       "version_minor": 0
      },
      "text/plain": [
       "FloatProgress(value=0.0, layout=Layout(width='auto'), style=ProgressStyle(bar_color='black'))"
      ]
     },
     "metadata": {},
     "output_type": "display_data"
    },
    {
     "name": "stdout",
     "output_type": "stream",
     "text": [
      "Writing motif hits to /hpc/group/igvf/db/cCRE-preds-K562_motif-hits.parquet\n"
     ]
    },
    {
     "data": {
      "application/vnd.jupyter.widget-view+json": {
       "model_id": "887ec86d154e4a87848f79adb7483b57",
       "version_major": 2,
       "version_minor": 0
      },
      "text/plain": [
       "FloatProgress(value=0.0, layout=Layout(width='auto'), style=ProgressStyle(bar_color='black'))"
      ]
     },
     "metadata": {},
     "output_type": "display_data"
    }
   ],
   "source": [
    "motif_mut_hits_db = f\"{MUT_PRED_DB}_motif-hits.parquet\"\n",
    "if Path(motif_mut_hits_db).exists():\n",
    "    print(f\"Reading motif hits from existing {motif_mut_hits_db}\")\n",
    "else:\n",
    "    print(f\"Joining motif matches and mutations, one chromosome at a time.\")\n",
    "    num_leading_bps = 5 # number of leading (and trailing) base pairs to include in the join\n",
    "    from starrutil.dbutil import partition_join\n",
    "    project_expr = (\n",
    "        \"m.motif_id, m.motif_alt_id, \"\n",
    "        \"regexp_extract(m.motif_alt_id, \\'\\.([^\\.]+)$\\', 1) as motif_name, \"\n",
    "        \"m.chrom, m.start as mot_start, m.stop as mot_end, \"\n",
    "        \"ap.allele_pos, ap.ref_allele, ap.allele as alt_allele, log2FC\"\n",
    "    )\n",
    "    motif_mut_hits = partition_join(\n",
    "        motifs_db, mutpreds,\n",
    "        partition_col=\"chrom\",\n",
    "        project_expr=project_expr,\n",
    "        join_expr=f\"m.start-{num_leading_bps} <= ap.allele_pos and m.stop+{num_leading_bps} >= ap.allele_pos\",\n",
    "        aliases=(\"m\", \"ap\"),\n",
    "        verbose=True\n",
    "    )\n",
    "    print(f\"Writing motif hits to {motif_mut_hits_db}\")\n",
    "    motif_mut_hits.to_parquet(motif_mut_hits_db)\n",
    "motif_mut_hits = duckdb.read_parquet(motif_mut_hits_db)"
   ]
  },
  {
   "cell_type": "code",
   "execution_count": 10,
   "metadata": {},
   "outputs": [
    {
     "name": "stdout",
     "output_type": "stream",
     "text": [
      "There are 2,920,638 mutations with motif hits, which is 0.36% of mutations.\n"
     ]
    }
   ],
   "source": [
    "num_motif_hits = motif_mut_hits.count('chrom').fetchall()[0][0]\n",
    "print(f\"There are {num_motif_hits:,} mutations with motif hits, which is \" +\n",
    "      f\"{num_motif_hits/mutpreds.count('chrom').fetchall()[0][0]:.2%} of mutations.\")\n"
   ]
  },
  {
   "cell_type": "markdown",
   "metadata": {},
   "source": [
    "## Visualizing predicted activations versus motif matches\n",
    "\n",
    "### Per-motif statistics for filtering\n",
    "\n",
    "Note that the relationship between motif name (derived from the suffix of the alternative motif_id) and motif_id is not strictly 1:1. Specifically, for a few motifs (i.e., motif names) there are different motif_ids with PWMs of different lengths and thus different lengths of motif matches."
   ]
  },
  {
   "cell_type": "code",
   "execution_count": 11,
   "metadata": {},
   "outputs": [
    {
     "data": {
      "text/plain": [
       "┌────────────┬────────────────────────────────┬───────────────┬───────────────┐\n",
       "│ motif_name │           motif_IDs            │ motif_len_min │ motif_len_max │\n",
       "│  varchar   │           varchar[]            │     int64     │     int64     │\n",
       "├────────────┼────────────────────────────────┼───────────────┼───────────────┤\n",
       "│ RXRB       │ [MA0855.1, MA1555.1]           │            14 │            14 │\n",
       "│ THRB       │ [MA1575.2, MA1576.2]           │            17 │            18 │\n",
       "│ CTCF       │ [MA1930.2, MA1929.2, MA0139.2] │            15 │            33 │\n",
       "│ RXRG       │ [MA0856.1, MA1556.1]           │            14 │            14 │\n",
       "│ RARA       │ [MA0730.1, MA0729.1]           │            17 │            18 │\n",
       "└────────────┴────────────────────────────────┴───────────────┴───────────────┘"
      ]
     },
     "execution_count": 11,
     "metadata": {},
     "output_type": "execute_result"
    }
   ],
   "source": [
    "duckdb.sql(\"select motif_name, list(distinct motif_id) as motif_IDs, \"\n",
    "           \"min(mot_end - mot_start + 1) as motif_len_min, \"\n",
    "           \"max(mot_end - mot_start + 1) as motif_len_max \"\n",
    "           \"from motif_mut_hits \"\n",
    "           \"group by motif_name having count(distinct motif_id) > 1\")"
   ]
  },
  {
   "cell_type": "markdown",
   "metadata": {},
   "source": [
    "We generate per-motif statistics including how many times it hit the cCREs and the most negative and most positive effects, so we can filter based on those. Due to the above, we have to group by motif_id, not motif_name.\n",
    "\n",
    "More specifically, because we want to relate mutation effect predictions to motif matches, we have to distinguish motifs with different PWMs (and thus IDs)."
   ]
  },
  {
   "cell_type": "code",
   "execution_count": 12,
   "metadata": {},
   "outputs": [],
   "source": [
    "motif_mut_stats = duckdb.sql(\n",
    "    \"select motif_id, first(motif_name) as motif_name, \"\n",
    "    \"count(distinct chrom) as num_chroms, \"\n",
    "    \"count(distinct mot_start) as num_motif_hits, count(*) as num_mut, \"\n",
    "    \"min(log2FC) as min_log2FC, max(log2FC) as max_log2FC, \"\n",
    "    \"max(abs(log2FC)) as max_abs_log2FC \"\n",
    "    \"from motif_mut_hits \"\n",
    "    \"group by motif_id\").df()"
   ]
  },
  {
   "cell_type": "markdown",
   "metadata": {},
   "source": [
    "### Visualize per-basepair statistics for motif matches\n",
    "\n",
    "Here we visualize for each base within a motif match, and a few leading up and trailing the matches, what the predicted effect of mutating them is.\n",
    "\n",
    "For each base (= reference) in motif matches to cCREs, we plot (as a boxplot) the largest predicted effect for mutating it. The largest effect is the one with the largest magnitude, positive or negative."
   ]
  },
  {
   "cell_type": "code",
   "execution_count": 13,
   "metadata": {},
   "outputs": [],
   "source": [
    "import matplotlib.ticker as ticker\n",
    "\n",
    "def plot_motif_mutation_effects(mutation_effects, motif_id, ax, \n",
    "                                xlim=None, n_xticks=None):\n",
    "    motif_name = mutation_effects['motif_name'].unique()[0]\n",
    "    ax = sns.boxplot(y=\"motif_pos\", x=\"log2FC\", data=mutation_effects,\n",
    "                     hue=\"ref_allele\", hue_order=[\"A\", \"C\", \"G\", \"T\"],\n",
    "                     orient=\"h\", \n",
    "                     whis=(2.5,97.5), fliersize=0.5, gap=0.2, width=0.9, linewidth=0.5, ax=ax)\n",
    "    ax.xaxis.grid(True)\n",
    "    group_pos = [tick.get_position()[1] for tick in ax.get_yticklabels()]\n",
    "    ax.axhspan(group_pos[0]-0.5, group_pos[4]+0.5, color='lightgray', alpha=0.3)\n",
    "    ax.axhspan(group_pos[-5]-0.5, group_pos[-1]+0.5, color='lightgray', alpha=0.3)\n",
    "    for i in range(5, len(group_pos)-6):\n",
    "        ax.axhline(group_pos[i]+0.5, color='gray', linewidth=0.5, linestyle='--')\n",
    "    ax.set_ylim(group_pos[-1]+0.5, group_pos[0]-0.5)\n",
    "    ax.set_ylabel(\"Position relative to start of motif match\")\n",
    "    ax.set_xlabel(\"Predicted activation relative to reference ($\\log_2(alt/ref)$)\")\n",
    "    if xlim is not None:\n",
    "        ax.set_xlim(xlim)\n",
    "    if n_xticks is not None:\n",
    "        ax.xaxis.set_major_locator(ticker.MaxNLocator(nbins=n_xticks))\n",
    "    ax.set_title(f\"Predicted effects of mutating {motif_name} ({motif_id}) matches\")\n",
    "    ax.legend(title=\"Ref. allele\")"
   ]
  },
  {
   "cell_type": "code",
   "execution_count": null,
   "metadata": {},
   "outputs": [],
   "source": [
    "for _, row in motif_mut_stats.sort_values(\"max_abs_log2FC\", ascending=False).iterrows():\n",
    "    # stop when we reach a motif with absolute predicted effect less than a threshold\n",
    "    if row['max_abs_log2FC'] < 0.5:\n",
    "        break\n",
    "    # skip motifs with fewer than 9 hits across all cCREs\n",
    "    if row['num_motif_hits'] < 9:\n",
    "        continue\n",
    "    motif_id = row['motif_id']\n",
    "    mutation_effects = duckdb.sql(\n",
    "        \"select motif_name, chrom, mot_start, mot_end, \"\n",
    "        \"allele_pos - mot_start as motif_pos, ref_allele, \"\n",
    "        \"last(alt_allele order by abs(log2FC)) as alt_allele, \"\n",
    "        \"last(log2FC order by abs(log2FC)) as log2FC \"\n",
    "        \"from motif_mut_hits \" +\n",
    "        \"where motif_id = ? \" +\n",
    "        \"group by motif_name, chrom, mot_start, mot_end, allele_pos, ref_allele \"\n",
    "        \"order by chrom, mot_start, allele_pos \",\n",
    "        params=[motif_id]).df()\n",
    "    fig, ax = plt.subplots(figsize=(6, 20))\n",
    "    plot_motif_mutation_effects(mutation_effects, motif_id=motif_id, ax=ax, xlim=(-1.1, 1.1))\n",
    "    # save plot to file\n",
    "    fig.savefig(Path('../figs') / f\"{row['motif_name']}_{motif_id}-mutation-effects.png\",\n",
    "                bbox_inches='tight', dpi=300)\n",
    "    plt.show()\n",
    "    plt.close(fig)\n"
   ]
  }
 ],
 "metadata": {
  "kernelspec": {
   "display_name": "Python 3",
   "language": "python",
   "name": "python3"
  },
  "language_info": {
   "codemirror_mode": {
    "name": "ipython",
    "version": 3
   },
   "file_extension": ".py",
   "mimetype": "text/x-python",
   "name": "python",
   "nbconvert_exporter": "python",
   "pygments_lexer": "ipython3",
   "version": "3.11.10"
  }
 },
 "nbformat": 4,
 "nbformat_minor": 2
}
