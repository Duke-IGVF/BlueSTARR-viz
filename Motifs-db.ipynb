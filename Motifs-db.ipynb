{
 "cells": [
  {
   "cell_type": "markdown",
   "metadata": {},
   "source": [
    "# Significant matches from a genome-wise TF motif scan\n",
    "\n",
    "## Setup\n",
    "\n",
    "### Imports"
   ]
  },
  {
   "cell_type": "code",
   "execution_count": 1,
   "metadata": {},
   "outputs": [],
   "source": [
    "import polars as pl\n",
    "import gzip\n",
    "import numpy as np\n",
    "import pyarrow.parquet as pq\n",
    "import duckdb\n",
    "import gzip\n",
    "from pathlib import Path\n",
    "import matplotlib.pyplot as plt"
   ]
  },
  {
   "cell_type": "markdown",
   "metadata": {},
   "source": [
    "### Paths for input and output"
   ]
  },
  {
   "cell_type": "code",
   "execution_count": 2,
   "metadata": {},
   "outputs": [],
   "source": [
    "PROJECT_ROOT = Path('/hpc/group/igvf')\n",
    "DB_ROOT = PROJECT_ROOT / 'db'\n",
    "DATA_ROOT = Path('../igvf-pm')\n",
    "MOTIFS_ROOT = DATA_ROOT / 'hlapp/motifs/matches'\n",
    "MOTIFS_DB = DB_ROOT / 'motifs'"
   ]
  },
  {
   "cell_type": "markdown",
   "metadata": {},
   "source": [
    "## Parquet database from per-chromosome TSV files\n",
    "\n",
    "For performance reasons, we will not include _all_ motif matches in the database, but drop those below a chosen q-value cutoff, where the q-value is the one reported by FIMO."
   ]
  },
  {
   "cell_type": "code",
   "execution_count": 3,
   "metadata": {},
   "outputs": [],
   "source": [
    "# Function to write a partitioned parquet dataset from a list of file paths.\n",
    "def write_database_of_matches(files, db_dir, \n",
    "                              column_rename={\"sequence_name\": \"chrom\",\n",
    "                                             \"p-value\": \"pvalue\",\n",
    "                                             \"q-value\": \"qvalue\",},\n",
    "                              sep='\\t',\n",
    "                              qvalue_cutoff=0.1,\n",
    "                              partition_cols=[\"chrom\"]):\n",
    "    # Loop over the files and write them to the database\n",
    "    for file in files:\n",
    "        print(f\"Reading {file}\")\n",
    "        fopen = open if file.suffix == '.gz' else gzip.open\n",
    "        df = (\n",
    "            pl.scan_csv(fopen(file), separator=sep).\n",
    "                filter(pl.col('q-value') <= qvalue_cutoff).\n",
    "                rename(column_rename).\n",
    "                collect()\n",
    "        )\n",
    "\n",
    "        # Write the dataset\n",
    "        print(f\"Writing to {db_dir}\")\n",
    "        pq.write_to_dataset(\n",
    "            df.to_arrow(),\n",
    "            root_path=db_dir,\n",
    "            partition_cols=partition_cols,\n",
    "            existing_data_behavior='overwrite_or_ignore',\n",
    "        )"
   ]
  },
  {
   "cell_type": "code",
   "execution_count": 13,
   "metadata": {},
   "outputs": [
    {
     "name": "stdout",
     "output_type": "stream",
     "text": [
      "Reading ../igvf-pm/hlapp/motifs/matches/chr15.fimo.tsv.gz\n",
      "Writing to /hpc/group/igvf/db/motifs\n",
      "Reading ../igvf-pm/hlapp/motifs/matches/chr12.fimo.tsv.gz\n",
      "Writing to /hpc/group/igvf/db/motifs\n",
      "Reading ../igvf-pm/hlapp/motifs/matches/chr16.fimo.tsv.gz\n",
      "Writing to /hpc/group/igvf/db/motifs\n",
      "Reading ../igvf-pm/hlapp/motifs/matches/chrY.fimo.tsv.gz\n",
      "Writing to /hpc/group/igvf/db/motifs\n",
      "Reading ../igvf-pm/hlapp/motifs/matches/chr11.fimo.tsv.gz\n",
      "Writing to /hpc/group/igvf/db/motifs\n",
      "Reading ../igvf-pm/hlapp/motifs/matches/chr21.fimo.tsv.gz\n",
      "Writing to /hpc/group/igvf/db/motifs\n",
      "Reading ../igvf-pm/hlapp/motifs/matches/chr13.fimo.tsv.gz\n",
      "Writing to /hpc/group/igvf/db/motifs\n",
      "Reading ../igvf-pm/hlapp/motifs/matches/chr4.fimo.tsv.gz\n",
      "Writing to /hpc/group/igvf/db/motifs\n",
      "Reading ../igvf-pm/hlapp/motifs/matches/chr17.fimo.tsv.gz\n",
      "Writing to /hpc/group/igvf/db/motifs\n",
      "Reading ../igvf-pm/hlapp/motifs/matches/chr5.fimo.tsv.gz\n",
      "Writing to /hpc/group/igvf/db/motifs\n",
      "Reading ../igvf-pm/hlapp/motifs/matches/chr6.fimo.tsv.gz\n",
      "Writing to /hpc/group/igvf/db/motifs\n",
      "Reading ../igvf-pm/hlapp/motifs/matches/chr20.fimo.tsv.gz\n",
      "Writing to /hpc/group/igvf/db/motifs\n",
      "Reading ../igvf-pm/hlapp/motifs/matches/chr9.fimo.tsv.gz\n",
      "Writing to /hpc/group/igvf/db/motifs\n",
      "Reading ../igvf-pm/hlapp/motifs/matches/chr2.fimo.tsv.gz\n",
      "Writing to /hpc/group/igvf/db/motifs\n",
      "Reading ../igvf-pm/hlapp/motifs/matches/chrM.fimo.tsv.gz\n",
      "Writing to /hpc/group/igvf/db/motifs\n",
      "Reading ../igvf-pm/hlapp/motifs/matches/chr22.fimo.tsv.gz\n",
      "Writing to /hpc/group/igvf/db/motifs\n",
      "Reading ../igvf-pm/hlapp/motifs/matches/chr19.fimo.tsv.gz\n",
      "Writing to /hpc/group/igvf/db/motifs\n",
      "Reading ../igvf-pm/hlapp/motifs/matches/chr3.fimo.tsv.gz\n",
      "Writing to /hpc/group/igvf/db/motifs\n",
      "Reading ../igvf-pm/hlapp/motifs/matches/chr1.fimo.tsv.gz\n",
      "Writing to /hpc/group/igvf/db/motifs\n",
      "Reading ../igvf-pm/hlapp/motifs/matches/chr14.fimo.tsv.gz\n",
      "Writing to /hpc/group/igvf/db/motifs\n",
      "Reading ../igvf-pm/hlapp/motifs/matches/chr10.fimo.tsv.gz\n",
      "Writing to /hpc/group/igvf/db/motifs\n",
      "Reading ../igvf-pm/hlapp/motifs/matches/chrX.fimo.tsv.gz\n",
      "Writing to /hpc/group/igvf/db/motifs\n",
      "Reading ../igvf-pm/hlapp/motifs/matches/chr8.fimo.tsv.gz\n",
      "Writing to /hpc/group/igvf/db/motifs\n",
      "Reading ../igvf-pm/hlapp/motifs/matches/chr18.fimo.tsv.gz\n",
      "Writing to /hpc/group/igvf/db/motifs\n",
      "Reading ../igvf-pm/hlapp/motifs/matches/chr7.fimo.tsv.gz\n",
      "Writing to /hpc/group/igvf/db/motifs\n"
     ]
    }
   ],
   "source": [
    "write_database_of_matches(MOTIFS_ROOT.glob('chr*.tsv.gz'), MOTIFS_DB)"
   ]
  },
  {
   "cell_type": "markdown",
   "metadata": {},
   "source": [
    "## Extract significant matches\n",
    "\n",
    "Open the database we created, and see how many matches we have after whichever import cutoff on the q-values was applied."
   ]
  },
  {
   "cell_type": "code",
   "execution_count": 11,
   "metadata": {},
   "outputs": [
    {
     "data": {
      "text/plain": [
       "┌───────────────┐\n",
       "│ count(pvalue) │\n",
       "│     int64     │\n",
       "├───────────────┤\n",
       "│      76907861 │\n",
       "└───────────────┘"
      ]
     },
     "execution_count": 11,
     "metadata": {},
     "output_type": "execute_result"
    }
   ],
   "source": [
    "motifs_db = duckdb.read_parquet(f\"{MOTIFS_DB}/**/*.parquet\", hive_partitioning=True)\n",
    "motifs_db.count('pvalue')"
   ]
  },
  {
   "cell_type": "markdown",
   "metadata": {},
   "source": [
    "### Determining significance in light of multiple testing\n",
    "\n",
    "The significance p-value of reported matches needs to be corrected for multiple testing, especially given the very large number of tests. The genome-wide scan was run over genomic regions in separate jobs for parallization. This means that the q-values for FDR-based multiple testing correction as originally reported, while valid within the region for which they were computed, are not valid for the whole genome scan.\n",
    "\n",
    "One possibility is to use a Bonferroni correction. However, even for only the reported matches, this would result in a very conservative cutoff of 1e-10 (for FWER of 0.5), and the original scans already applied a p-value cutoff (of 0.0001), hence far less than all tests were reported. So the \"real\" Bonferroni correction should arguably be even more conservative.\n",
    "\n",
    "Instead we try to leverage the q-values that were alredy computed. Specifically, we find a p-value cutoff that approximately corresponds to a desired q-value cutoff."
   ]
  },
  {
   "cell_type": "code",
   "execution_count": 5,
   "metadata": {},
   "outputs": [],
   "source": [
    "pvals = duckdb.sql('select pvalue from motifs_db where round(qvalue, 2) = 0.05').to_df()"
   ]
  },
  {
   "cell_type": "markdown",
   "metadata": {},
   "source": [
    "The p-values sharing the same or nearly the same q-value cover several orders of magnitude:"
   ]
  },
  {
   "cell_type": "code",
   "execution_count": 9,
   "metadata": {},
   "outputs": [
    {
     "data": {
      "text/plain": [
       "Text(0.5, 1.0, 'Distribution of motif match p-values for q-value ~= 0.05')"
      ]
     },
     "execution_count": 9,
     "metadata": {},
     "output_type": "execute_result"
    },
    {
     "data": {
      "image/png": "[encoded data removed]",
      "text/plain": [
       "<Figure size 640x480 with 1 Axes>"
      ]
     },
     "metadata": {},
     "output_type": "display_data"
    }
   ],
   "source": [
    "h = plt.hist(-np.log10(pvals['pvalue']), bins=20, log=True)\n",
    "plt.xlabel('$-\\log_{10}$(pvalue)')\n",
    "plt.ylabel('Frequency (log scale)')\n",
    "plt.title('Distribution of motif match p-values for q-value ~= 0.05')"
   ]
  },
  {
   "cell_type": "markdown",
   "metadata": {},
   "source": [
    "This is presumably because some regions had many (in fact, orders of magnitude) more weak or insignificant matches than others. (The number of tests could also differ markedly between regions, but seems less likely to cover orders of magnitude if region lengths were roughly the same.)\n",
    "\n",
    "We will use the principle here that q-values must monotically decrease for p-values in descending order. I.e., if q-values were to be recomputed for the entire dataset, the p-value for any given q-value could not be higher than the lowest p-value found across all regions for a given q-value.\n",
    "\n",
    "We find this p-value, and truncate it to the nearest power of 10:"
   ]
  },
  {
   "cell_type": "code",
   "execution_count": 10,
   "metadata": {},
   "outputs": [
    {
     "data": {
      "text/plain": [
       "1e-08"
      ]
     },
     "execution_count": 10,
     "metadata": {},
     "output_type": "execute_result"
    }
   ],
   "source": [
    "p_min = 10**int(np.log10(pvals['pvalue'].min()))\n",
    "p_min"
   ]
  },
  {
   "cell_type": "markdown",
   "metadata": {},
   "source": [
    "Then we can subset using this p-value. Note that the actual q-value for the chosen p-value, if recomputed over the entire scan, might be somewhat different from the cutoff we chose. I.e., we are assuming that the fraction and distribution of insignificant matches (and thus p-values) for the whole scan is similar to the one of the \"worst\" region. "
   ]
  },
  {
   "cell_type": "code",
   "execution_count": 38,
   "metadata": {},
   "outputs": [
    {
     "data": {
      "application/vnd.jupyter.widget-view+json": {
       "model_id": "8e34e9d0e5214cb0b8d3b79e11d9c940",
       "version_major": 2,
       "version_minor": 0
      },
      "text/plain": [
       "FloatProgress(value=0.0, layout=Layout(width='auto'), style=ProgressStyle(bar_color='black'))"
      ]
     },
     "metadata": {},
     "output_type": "display_data"
    }
   ],
   "source": [
    "motifs_db_signif = duckdb.sql(f'select * from motifs_db where \"pvalue\" < {p_min}').to_arrow_table()\n",
    "# write pyarrow table to parquet\n",
    "pq.write_table(motifs_db_signif, f'{MOTIFS_DB}-signif.parquet')"
   ]
  },
  {
   "cell_type": "code",
   "execution_count": null,
   "metadata": {},
   "outputs": [],
   "source": []
  }
 ],
 "metadata": {
  "kernelspec": {
   "display_name": "Python 3",
   "language": "python",
   "name": "python3"
  },
  "language_info": {
   "codemirror_mode": {
    "name": "ipython",
    "version": 3
   },
   "file_extension": ".py",
   "mimetype": "text/x-python",
   "name": "python",
   "nbconvert_exporter": "python",
   "pygments_lexer": "ipython3",
   "version": "3.11.10"
  }
 },
 "nbformat": 4,
 "nbformat_minor": 2
}
