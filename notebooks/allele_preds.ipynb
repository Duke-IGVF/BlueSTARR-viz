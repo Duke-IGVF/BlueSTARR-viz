{
 "cells": [
  {
   "cell_type": "markdown",
   "id": "0101a8c6-8fec-45ff-ba03-29cc20a95813",
   "metadata": {},
   "source": [
    "# Variant effect prediction files for cCREs\n",
    "\n",
    "Files are tab-separated in the following format\n",
    "```text\n",
    "chr4:156105483-156105721 chr4:156105452-156105752 pos=156105483 ref=G G -0.32947034\n",
    "```\n",
    "They contain the following information:\n",
    "- cCRE region in `chr#:start-end` genome region notation\n",
    "- sequence bin used for prediction; centered on cCRE and length based on what model was trained with (same genome region notation)\n",
    "- `pos=NNNNNNN`: chromosome position being mutated\n",
    "- `ref=X`: reference genome allele (=X) at this position\n",
    "- `Y`: the allele being tested for the sequence bin\n",
    "- the activation value predicted for the sequence bin with allele `Y` in the position being mutated"
   ]
  },
  {
   "cell_type": "code",
   "execution_count": 1,
   "id": "be83e016-34dd-4add-b948-46a0ba518168",
   "metadata": {},
   "outputs": [],
   "source": [
    "from pathlib import Path\n",
    "import pandas as pd\n",
    "import numpy as np\n",
    "import duckdb\n",
    "import matplotlib.pyplot as plt"
   ]
  },
  {
   "cell_type": "code",
   "execution_count": 2,
   "id": "620a20a7-a616-41fd-9f3b-911c37de1ba1",
   "metadata": {},
   "outputs": [],
   "source": [
    "DATADIR = Path(\"data\")\n",
    "pred_file = DATADIR / \"pred999.txt\""
   ]
  },
  {
   "cell_type": "code",
   "execution_count": 3,
   "id": "7028523b-0d22-4dd1-816d-775ab3847fee",
   "metadata": {},
   "outputs": [],
   "source": [
    "def read_pred_table(pred_file, convFC=lambda x: x/np.log(2), FC_name=\"log2FC\"):\n",
    "    # last column is FC, which can be neg and thus have a minus sign\n",
    "    pred_vals = pd.read_csv(pred_file, sep=\"\\t\", index_col=False, header=None,\n",
    "                            usecols=[5], names=[FC_name])\n",
    "    # convert as desired\n",
    "    pred_vals[FC_name] = convFC(pred_vals[FC_name])\n",
    "    # get the remaining columns and merge\n",
    "    cols = [\"cre_chrom\", \"cre_start\", \"cre_end\",\n",
    "            \"bin_chrom\", \"bin_start\", \"bin_end\",\n",
    "            \"allele_pos\", \"ref_allele\", \"allele\"]\n",
    "    pred_table = pd.read_csv(pred_file, sep=\"\\t|:|=|-\", index_col=False, header=None,\n",
    "                             usecols=[0, 1, 2, 3, 4, 5, 7, 9, 10], names=cols,\n",
    "                             engine=\"python\")\n",
    "    pred_table = pred_table.merge(pred_vals, left_index=True, right_index=True)\n",
    "    # compute relative activation of allele to ref\n",
    "    refFC = pred_table.loc[pred_table[\"ref_allele\"] == pred_table[\"allele\"], [FC_name]]\n",
    "    refFC = refFC.loc[refFC.index.repeat(4)].reset_index(drop=True)\n",
    "    pred_table[\"FC_to_ref\"] = pred_table[FC_name] - refFC[FC_name]\n",
    "    # done\n",
    "    return pred_table"
   ]
  },
  {
   "cell_type": "code",
   "execution_count": 4,
   "id": "906815e8-61c6-436f-862f-35c83a81b468",
   "metadata": {},
   "outputs": [],
   "source": [
    "pred_table = read_pred_table(pred_file)"
   ]
  },
  {
   "cell_type": "code",
   "execution_count": 5,
   "id": "b31bb2c8-53bc-4ef9-a9e1-d23fef60cd04",
   "metadata": {},
   "outputs": [
    {
     "data": {
      "text/html": [
       "<div>\n",
       "<style scoped>\n",
       "    .dataframe tbody tr th:only-of-type {\n",
       "        vertical-align: middle;\n",
       "    }\n",
       "\n",
       "    .dataframe tbody tr th {\n",
       "        vertical-align: top;\n",
       "    }\n",
       "\n",
       "    .dataframe thead th {\n",
       "        text-align: right;\n",
       "    }\n",
       "</style>\n",
       "<table border=\"1\" class=\"dataframe\">\n",
       "  <thead>\n",
       "    <tr style=\"text-align: right;\">\n",
       "      <th></th>\n",
       "      <th>cre_chrom</th>\n",
       "      <th>cre_start</th>\n",
       "      <th>cre_end</th>\n",
       "      <th>bin_chrom</th>\n",
       "      <th>bin_start</th>\n",
       "      <th>bin_end</th>\n",
       "      <th>allele_pos</th>\n",
       "      <th>ref_allele</th>\n",
       "      <th>allele</th>\n",
       "      <th>log2FC</th>\n",
       "      <th>FC_to_ref</th>\n",
       "    </tr>\n",
       "  </thead>\n",
       "  <tbody>\n",
       "    <tr>\n",
       "      <th>0</th>\n",
       "      <td>chr4</td>\n",
       "      <td>156105483</td>\n",
       "      <td>156105721</td>\n",
       "      <td>chr4</td>\n",
       "      <td>156105452</td>\n",
       "      <td>156105752</td>\n",
       "      <td>156105483</td>\n",
       "      <td>G</td>\n",
       "      <td>G</td>\n",
       "      <td>-0.475325</td>\n",
       "      <td>0.000000</td>\n",
       "    </tr>\n",
       "    <tr>\n",
       "      <th>1</th>\n",
       "      <td>chr4</td>\n",
       "      <td>156105483</td>\n",
       "      <td>156105721</td>\n",
       "      <td>chr4</td>\n",
       "      <td>156105452</td>\n",
       "      <td>156105752</td>\n",
       "      <td>156105483</td>\n",
       "      <td>G</td>\n",
       "      <td>C</td>\n",
       "      <td>-0.487121</td>\n",
       "      <td>-0.011796</td>\n",
       "    </tr>\n",
       "    <tr>\n",
       "      <th>2</th>\n",
       "      <td>chr4</td>\n",
       "      <td>156105483</td>\n",
       "      <td>156105721</td>\n",
       "      <td>chr4</td>\n",
       "      <td>156105452</td>\n",
       "      <td>156105752</td>\n",
       "      <td>156105483</td>\n",
       "      <td>G</td>\n",
       "      <td>A</td>\n",
       "      <td>-0.461409</td>\n",
       "      <td>0.013916</td>\n",
       "    </tr>\n",
       "    <tr>\n",
       "      <th>3</th>\n",
       "      <td>chr4</td>\n",
       "      <td>156105483</td>\n",
       "      <td>156105721</td>\n",
       "      <td>chr4</td>\n",
       "      <td>156105452</td>\n",
       "      <td>156105752</td>\n",
       "      <td>156105483</td>\n",
       "      <td>G</td>\n",
       "      <td>T</td>\n",
       "      <td>-0.456129</td>\n",
       "      <td>0.019196</td>\n",
       "    </tr>\n",
       "    <tr>\n",
       "      <th>4</th>\n",
       "      <td>chr4</td>\n",
       "      <td>156105483</td>\n",
       "      <td>156105721</td>\n",
       "      <td>chr4</td>\n",
       "      <td>156105452</td>\n",
       "      <td>156105752</td>\n",
       "      <td>156105484</td>\n",
       "      <td>A</td>\n",
       "      <td>G</td>\n",
       "      <td>-0.483387</td>\n",
       "      <td>-0.008061</td>\n",
       "    </tr>\n",
       "    <tr>\n",
       "      <th>...</th>\n",
       "      <td>...</td>\n",
       "      <td>...</td>\n",
       "      <td>...</td>\n",
       "      <td>...</td>\n",
       "      <td>...</td>\n",
       "      <td>...</td>\n",
       "      <td>...</td>\n",
       "      <td>...</td>\n",
       "      <td>...</td>\n",
       "      <td>...</td>\n",
       "      <td>...</td>\n",
       "    </tr>\n",
       "    <tr>\n",
       "      <th>1010007</th>\n",
       "      <td>chr5</td>\n",
       "      <td>1777713</td>\n",
       "      <td>1777943</td>\n",
       "      <td>chr5</td>\n",
       "      <td>1777678</td>\n",
       "      <td>1777978</td>\n",
       "      <td>1777941</td>\n",
       "      <td>G</td>\n",
       "      <td>T</td>\n",
       "      <td>0.113811</td>\n",
       "      <td>-0.029922</td>\n",
       "    </tr>\n",
       "    <tr>\n",
       "      <th>1010008</th>\n",
       "      <td>chr5</td>\n",
       "      <td>1777713</td>\n",
       "      <td>1777943</td>\n",
       "      <td>chr5</td>\n",
       "      <td>1777678</td>\n",
       "      <td>1777978</td>\n",
       "      <td>1777942</td>\n",
       "      <td>G</td>\n",
       "      <td>G</td>\n",
       "      <td>0.143734</td>\n",
       "      <td>0.000000</td>\n",
       "    </tr>\n",
       "    <tr>\n",
       "      <th>1010009</th>\n",
       "      <td>chr5</td>\n",
       "      <td>1777713</td>\n",
       "      <td>1777943</td>\n",
       "      <td>chr5</td>\n",
       "      <td>1777678</td>\n",
       "      <td>1777978</td>\n",
       "      <td>1777942</td>\n",
       "      <td>G</td>\n",
       "      <td>C</td>\n",
       "      <td>0.133421</td>\n",
       "      <td>-0.010312</td>\n",
       "    </tr>\n",
       "    <tr>\n",
       "      <th>1010010</th>\n",
       "      <td>chr5</td>\n",
       "      <td>1777713</td>\n",
       "      <td>1777943</td>\n",
       "      <td>chr5</td>\n",
       "      <td>1777678</td>\n",
       "      <td>1777978</td>\n",
       "      <td>1777942</td>\n",
       "      <td>G</td>\n",
       "      <td>A</td>\n",
       "      <td>0.138082</td>\n",
       "      <td>-0.005651</td>\n",
       "    </tr>\n",
       "    <tr>\n",
       "      <th>1010011</th>\n",
       "      <td>chr5</td>\n",
       "      <td>1777713</td>\n",
       "      <td>1777943</td>\n",
       "      <td>chr5</td>\n",
       "      <td>1777678</td>\n",
       "      <td>1777978</td>\n",
       "      <td>1777942</td>\n",
       "      <td>G</td>\n",
       "      <td>T</td>\n",
       "      <td>0.134681</td>\n",
       "      <td>-0.009053</td>\n",
       "    </tr>\n",
       "  </tbody>\n",
       "</table>\n",
       "<p>1010012 rows × 11 columns</p>\n",
       "</div>"
      ],
      "text/plain": [
       "        cre_chrom  cre_start    cre_end bin_chrom  bin_start    bin_end  \\\n",
       "0            chr4  156105483  156105721      chr4  156105452  156105752   \n",
       "1            chr4  156105483  156105721      chr4  156105452  156105752   \n",
       "2            chr4  156105483  156105721      chr4  156105452  156105752   \n",
       "3            chr4  156105483  156105721      chr4  156105452  156105752   \n",
       "4            chr4  156105483  156105721      chr4  156105452  156105752   \n",
       "...           ...        ...        ...       ...        ...        ...   \n",
       "1010007      chr5    1777713    1777943      chr5    1777678    1777978   \n",
       "1010008      chr5    1777713    1777943      chr5    1777678    1777978   \n",
       "1010009      chr5    1777713    1777943      chr5    1777678    1777978   \n",
       "1010010      chr5    1777713    1777943      chr5    1777678    1777978   \n",
       "1010011      chr5    1777713    1777943      chr5    1777678    1777978   \n",
       "\n",
       "         allele_pos ref_allele allele    log2FC  FC_to_ref  \n",
       "0         156105483          G      G -0.475325   0.000000  \n",
       "1         156105483          G      C -0.487121  -0.011796  \n",
       "2         156105483          G      A -0.461409   0.013916  \n",
       "3         156105483          G      T -0.456129   0.019196  \n",
       "4         156105484          A      G -0.483387  -0.008061  \n",
       "...             ...        ...    ...       ...        ...  \n",
       "1010007     1777941          G      T  0.113811  -0.029922  \n",
       "1010008     1777942          G      G  0.143734   0.000000  \n",
       "1010009     1777942          G      C  0.133421  -0.010312  \n",
       "1010010     1777942          G      A  0.138082  -0.005651  \n",
       "1010011     1777942          G      T  0.134681  -0.009053  \n",
       "\n",
       "[1010012 rows x 11 columns]"
      ]
     },
     "execution_count": 5,
     "metadata": {},
     "output_type": "execute_result"
    }
   ],
   "source": [
    "pred_table"
   ]
  },
  {
   "cell_type": "markdown",
   "id": "31281a63-3a06-44a4-a4ce-be0b770d5299",
   "metadata": {},
   "source": [
    "## Conduct checks of basic assumptions\n",
    "\n",
    "For example:\n",
    "\n",
    "1. There are no cCRE regions for which predictions are reported for more than a single sequence bin.\n"
   ]
  },
  {
   "cell_type": "code",
   "execution_count": 6,
   "id": "538bc322-2aa3-48ca-915f-e75bdbcb4b25",
   "metadata": {},
   "outputs": [
    {
     "data": {
      "text/plain": [
       "┌───────────┬───────────┬─────────┬───────────────────────────┬────────────────┬────────────────┐\n",
       "│ cre_chrom │ cre_start │ cre_end │ count(DISTINCT bin_start) │ min(bin_start) │ max(bin_start) │\n",
       "│  varchar  │   int64   │  int64  │           int64           │     int64      │     int64      │\n",
       "├───────────┴───────────┴─────────┴───────────────────────────┴────────────────┴────────────────┤\n",
       "│                                            0 rows                                             │\n",
       "└───────────────────────────────────────────────────────────────────────────────────────────────┘"
      ]
     },
     "execution_count": 6,
     "metadata": {},
     "output_type": "execute_result"
    }
   ],
   "source": [
    "duckdb.sql(\"select cre_chrom, cre_start, cre_end, \"\n",
    "           \"count(distinct bin_start), min(bin_start), max(bin_start) \"\n",
    "           \"from pred_table \"\n",
    "           \"group by cre_chrom, cre_start, cre_end \"\n",
    "           \"having count(distinct bin_start) > 1\")"
   ]
  },
  {
   "cell_type": "markdown",
   "id": "7783fd3e-b15d-42bb-8e39-e09f7275723c",
   "metadata": {},
   "source": [
    "2. There are no allele positions outside of the boundaries of the sequence bin."
   ]
  },
  {
   "cell_type": "code",
   "execution_count": 7,
   "id": "6dc674bc-3395-4173-8de2-caeea737abb6",
   "metadata": {},
   "outputs": [
    {
     "data": {
      "text/plain": [
       "┌───────────┬───────────┬─────────┐\n",
       "│ cre_chrom │ cre_start │ cre_end │\n",
       "│  varchar  │   int64   │  int64  │\n",
       "├───────────┴───────────┴─────────┤\n",
       "│             0 rows              │\n",
       "└─────────────────────────────────┘"
      ]
     },
     "execution_count": 7,
     "metadata": {},
     "output_type": "execute_result"
    }
   ],
   "source": [
    "duckdb.sql(\"select cre_chrom, cre_start, cre_end \"\n",
    "           \"from pred_table \"\n",
    "           \"where allele_pos < bin_start or allele_pos >= bin_end\")"
   ]
  },
  {
   "cell_type": "markdown",
   "id": "98c2d459-6844-457a-9199-a5fff528ad21",
   "metadata": {},
   "source": [
    "3. Predictions are reported for the entire length of the CRE if it is shorter than the length of the sequence bin (300bp), and for the length of the sequence bin otherwise."
   ]
  },
  {
   "cell_type": "code",
   "execution_count": 8,
   "id": "fd9dec95-cd9c-4fc3-90ab-a675f30c0c63",
   "metadata": {},
   "outputs": [
    {
     "data": {
      "text/plain": [
       "┌───────────┬───────────┬─────────┬────────────────────────────┐\n",
       "│ cre_chrom │ cre_start │ cre_end │ count(DISTINCT allele_pos) │\n",
       "│  varchar  │   int64   │  int64  │           int64            │\n",
       "├───────────┴───────────┴─────────┴────────────────────────────┤\n",
       "│                            0 rows                            │\n",
       "└──────────────────────────────────────────────────────────────┘"
      ]
     },
     "execution_count": 8,
     "metadata": {},
     "output_type": "execute_result"
    }
   ],
   "source": [
    "duckdb.sql(\"select cre_chrom, cre_start, cre_end, count(distinct allele_pos) \"\n",
    "           \"from pred_table \"\n",
    "           \"where (cre_end - cre_start) < (bin_end - bin_start) \"\n",
    "           \"group by cre_chrom, cre_start, cre_end \"\n",
    "           \"having count(distinct allele_pos) != (cre_end - cre_start)\")"
   ]
  },
  {
   "cell_type": "code",
   "execution_count": 9,
   "id": "914a45b4-ee1e-499d-8b96-523510ab0b62",
   "metadata": {},
   "outputs": [
    {
     "data": {
      "text/plain": [
       "┌───────────┬───────────┬─────────┬────────────────────────────┐\n",
       "│ bin_chrom │ bin_start │ bin_end │ count(DISTINCT allele_pos) │\n",
       "│  varchar  │   int64   │  int64  │           int64            │\n",
       "├───────────┴───────────┴─────────┴────────────────────────────┤\n",
       "│                            0 rows                            │\n",
       "└──────────────────────────────────────────────────────────────┘"
      ]
     },
     "execution_count": 9,
     "metadata": {},
     "output_type": "execute_result"
    }
   ],
   "source": [
    "duckdb.sql(\"select bin_chrom, bin_start, bin_end, count(distinct allele_pos) \"\n",
    "           \"from pred_table \"\n",
    "           \"where (cre_end - cre_start) >= (bin_end - bin_start) \"\n",
    "           \"group by bin_chrom, bin_start, bin_end \"\n",
    "           \"having count(distinct allele_pos) != bin_end - bin_start\")"
   ]
  },
  {
   "cell_type": "markdown",
   "id": "9687017d-19c9-4520-8967-0e9fbc2a9656",
   "metadata": {},
   "source": [
    "4. Predictions are reported for each possible allele at each position."
   ]
  },
  {
   "cell_type": "code",
   "execution_count": 10,
   "id": "3690e181-234a-41bf-b049-3da7d1ff6546",
   "metadata": {},
   "outputs": [
    {
     "data": {
      "text/plain": [
       "┌───────────┬────────────┬────────────────────────┐\n",
       "│ bin_chrom │ allele_pos │ count(DISTINCT allele) │\n",
       "│  varchar  │   int64    │         int64          │\n",
       "├───────────┴────────────┴────────────────────────┤\n",
       "│                     0 rows                      │\n",
       "└─────────────────────────────────────────────────┘"
      ]
     },
     "execution_count": 10,
     "metadata": {},
     "output_type": "execute_result"
    }
   ],
   "source": [
    "duckdb.sql(\"select bin_chrom, allele_pos, count(distinct allele) \"\n",
    "           \"from pred_table \"\n",
    "           \"group by bin_chrom, allele_pos \"\n",
    "           \"having count(distinct allele) != 4\")"
   ]
  },
  {
   "cell_type": "markdown",
   "id": "f3349c50-30b8-4012-b335-69c47616afda",
   "metadata": {},
   "source": [
    "5. All sequence bins overlap with the cCRE region."
   ]
  },
  {
   "cell_type": "code",
   "execution_count": 11,
   "id": "1c544a9a-0558-4527-b459-b38fa545de21",
   "metadata": {},
   "outputs": [
    {
     "data": {
      "text/plain": [
       "┌───────────┬───────────┬─────────┐\n",
       "│ cre_chrom │ cre_start │ cre_end │\n",
       "│  varchar  │   int64   │  int64  │\n",
       "├───────────┴───────────┴─────────┤\n",
       "│             0 rows              │\n",
       "└─────────────────────────────────┘"
      ]
     },
     "execution_count": 11,
     "metadata": {},
     "output_type": "execute_result"
    }
   ],
   "source": [
    "duckdb.sql(\"select cre_chrom, cre_start, cre_end \"\n",
    "           \"from pred_table \"\n",
    "           \"where bin_chrom != cre_chrom or \"\n",
    "           \"bin_start >= cre_end or bin_end < cre_start\")"
   ]
  },
  {
   "cell_type": "markdown",
   "id": "58721f94-dbea-4cca-84b3-fbe425af6f8c",
   "metadata": {},
   "source": [
    "6. The cCRE region and the sequence bin are centered over each other."
   ]
  },
  {
   "cell_type": "code",
   "execution_count": 12,
   "id": "1dbad79e-2e98-47b6-903a-47563cc6ed1f",
   "metadata": {},
   "outputs": [
    {
     "data": {
      "text/plain": [
       "┌───────────┬───────────┬─────────┬───────────┬─────────┬─────────┬─────────┐\n",
       "│ cre_chrom │ cre_start │ cre_end │ bin_start │ bin_end │ bin_mid │ cre_mid │\n",
       "│  varchar  │   int64   │  int64  │   int64   │  int64  │ double  │ double  │\n",
       "├───────────┴───────────┴─────────┴───────────┴─────────┴─────────┴─────────┤\n",
       "│                                  0 rows                                   │\n",
       "└───────────────────────────────────────────────────────────────────────────┘"
      ]
     },
     "execution_count": 12,
     "metadata": {},
     "output_type": "execute_result"
    }
   ],
   "source": [
    "duckdb.sql(\"select cre_chrom, cre_start, cre_end, bin_start, bin_end, \"\n",
    "           \" (bin_start/2.0 + bin_end/2.0) as bin_mid, \"\n",
    "           \" (cre_start/2.0 + cre_end/2.0) as cre_mid \"\n",
    "           \"from pred_table \"\n",
    "           \"where floor(bin_start/2.0 + bin_end/2.0) != floor(cre_start/2.0 + cre_end/2.0)\")"
   ]
  },
  {
   "cell_type": "markdown",
   "id": "f9732db5-b5aa-45bf-8780-caf03bacb9cf",
   "metadata": {},
   "source": [
    "## Histogram of activations relative to reference\n",
    "\n",
    "We preclude from this all reference allele predictions, because by definition there is one for each position (and thus many), and they are all zero on log scale, thus creating a dominating peak at zero."
   ]
  },
  {
   "cell_type": "code",
   "execution_count": 13,
   "id": "5358aca3-65d9-4f76-897d-15240e41ae15",
   "metadata": {},
   "outputs": [],
   "source": [
    "pred_norefs = duckdb.sql(\"select cre_chrom, cre_start, allele_pos, allele, FC_to_ref \"\n",
    "                         \"from pred_table \"\n",
    "                         \"where ref_allele != allele\").df()"
   ]
  },
  {
   "cell_type": "code",
   "execution_count": 14,
   "id": "d66ee310-e162-440a-9a21-d8b8d9fc27dc",
   "metadata": {},
   "outputs": [
    {
     "data": {
      "image/png": "[encoded data removed]",
      "text/plain": [
       "<Figure size 640x480 with 1 Axes>"
      ]
     },
     "metadata": {},
     "output_type": "display_data"
    }
   ],
   "source": [
    "barc = plt.hist((pred_norefs.loc[(pred_norefs[\"allele\"] == \"A\"),\"FC_to_ref\"],\n",
    "                 pred_norefs.loc[(pred_norefs[\"allele\"] == \"C\"),\"FC_to_ref\"],\n",
    "                 pred_norefs.loc[(pred_norefs[\"allele\"] == \"G\"),\"FC_to_ref\"],\n",
    "                 pred_norefs.loc[(pred_norefs[\"allele\"] == \"T\"),\"FC_to_ref\"]),\n",
    "                bins=50, alpha=0.5, label=['A','C','G','T'])\n",
    "plt.ylim(0, 100)\n",
    "plt.xlabel('log2FC(allele)-log2FC(ref)')\n",
    "plt.ylabel('Frequency')\n",
    "plt.title('Histogram of non-reference activations')\n",
    "plt.legend()\n",
    "plt.show()"
   ]
  },
  {
   "cell_type": "markdown",
   "id": "5163bdbf-d7f2-4ef9-9636-5e1c5074a576",
   "metadata": {},
   "source": [
    "## Profiles of predicted variant effect over cCRE region\n",
    "\n",
    "Strictly speaking, we have predictions for the full cCRE region only when it is completely covered by a sequence bin. If it partially overlaps with a sequence bin, we have variant predictions for the larger overlapping part.\n",
    "\n",
    "Stronger predicted variant effects are rare enough that many cCREs don't even have at least one for at least one variant. To select for profiles with at least some signal for at least one position, we select those cCREs with at least one activation > 0.2 (log2 scale)."
   ]
  },
  {
   "cell_type": "code",
   "execution_count": 28,
   "id": "ce3dd536-ab36-4ca6-af29-e88713cd6e5f",
   "metadata": {},
   "outputs": [],
   "source": [
    "signif_cres = duckdb.sql(\n",
    "    \"select cre_chrom, cre_start from pred_table \"\n",
    "    \"where FC_to_ref > 0.2 \"\n",
    "    \"group by cre_chrom, cre_start \"\n",
    "    \"order by cre_chrom, cre_start\").df()"
   ]
  },
  {
   "cell_type": "code",
   "execution_count": 29,
   "id": "509d5809-ad2c-4859-a4a1-e51aadf12ced",
   "metadata": {},
   "outputs": [
    {
     "data": {
      "text/html": [
       "<div>\n",
       "<style scoped>\n",
       "    .dataframe tbody tr th:only-of-type {\n",
       "        vertical-align: middle;\n",
       "    }\n",
       "\n",
       "    .dataframe tbody tr th {\n",
       "        vertical-align: top;\n",
       "    }\n",
       "\n",
       "    .dataframe thead th {\n",
       "        text-align: right;\n",
       "    }\n",
       "</style>\n",
       "<table border=\"1\" class=\"dataframe\">\n",
       "  <thead>\n",
       "    <tr style=\"text-align: right;\">\n",
       "      <th></th>\n",
       "      <th>cre_chrom</th>\n",
       "      <th>cre_start</th>\n",
       "    </tr>\n",
       "  </thead>\n",
       "  <tbody>\n",
       "    <tr>\n",
       "      <th>0</th>\n",
       "      <td>chr4</td>\n",
       "      <td>156105483</td>\n",
       "    </tr>\n",
       "    <tr>\n",
       "      <th>1</th>\n",
       "      <td>chr4</td>\n",
       "      <td>156162885</td>\n",
       "    </tr>\n",
       "    <tr>\n",
       "      <th>2</th>\n",
       "      <td>chr4</td>\n",
       "      <td>156242868</td>\n",
       "    </tr>\n",
       "    <tr>\n",
       "      <th>3</th>\n",
       "      <td>chr4</td>\n",
       "      <td>156309124</td>\n",
       "    </tr>\n",
       "    <tr>\n",
       "      <th>4</th>\n",
       "      <td>chr4</td>\n",
       "      <td>156363353</td>\n",
       "    </tr>\n",
       "    <tr>\n",
       "      <th>...</th>\n",
       "      <td>...</td>\n",
       "      <td>...</td>\n",
       "    </tr>\n",
       "    <tr>\n",
       "      <th>341</th>\n",
       "      <td>chr5</td>\n",
       "      <td>1665186</td>\n",
       "    </tr>\n",
       "    <tr>\n",
       "      <th>342</th>\n",
       "      <td>chr5</td>\n",
       "      <td>1733420</td>\n",
       "    </tr>\n",
       "    <tr>\n",
       "      <th>343</th>\n",
       "      <td>chr5</td>\n",
       "      <td>1756522</td>\n",
       "    </tr>\n",
       "    <tr>\n",
       "      <th>344</th>\n",
       "      <td>chr5</td>\n",
       "      <td>1762711</td>\n",
       "    </tr>\n",
       "    <tr>\n",
       "      <th>345</th>\n",
       "      <td>chr5</td>\n",
       "      <td>1777713</td>\n",
       "    </tr>\n",
       "  </tbody>\n",
       "</table>\n",
       "<p>346 rows × 2 columns</p>\n",
       "</div>"
      ],
      "text/plain": [
       "    cre_chrom  cre_start\n",
       "0        chr4  156105483\n",
       "1        chr4  156162885\n",
       "2        chr4  156242868\n",
       "3        chr4  156309124\n",
       "4        chr4  156363353\n",
       "..        ...        ...\n",
       "341      chr5    1665186\n",
       "342      chr5    1733420\n",
       "343      chr5    1756522\n",
       "344      chr5    1762711\n",
       "345      chr5    1777713\n",
       "\n",
       "[346 rows x 2 columns]"
      ]
     },
     "execution_count": 29,
     "metadata": {},
     "output_type": "execute_result"
    }
   ],
   "source": [
    "signif_cres"
   ]
  },
  {
   "cell_type": "code",
   "execution_count": 30,
   "id": "ca27d5ac-a82a-4a7d-894c-7d7251b326b5",
   "metadata": {},
   "outputs": [],
   "source": [
    "def preds_for_cre(pred_table, cre: (str, int)):\n",
    "    (chr, pos) = cre\n",
    "    preds = duckdb.sql(\n",
    "        \"select cre_chrom, cre_start, allele_pos, allele, FC_to_ref \"\n",
    "        \"from pred_table \" +\n",
    "        f\"where cre_chrom = '{chr}' \" +\n",
    "        f\"and cre_start = {pos}\").df()\n",
    "    return preds"
   ]
  },
  {
   "cell_type": "code",
   "execution_count": 31,
   "id": "b10b56fc-6082-4c87-ac6c-841385179c0d",
   "metadata": {},
   "outputs": [],
   "source": [
    "def plot_variant_effect_profiles(preds, colors = [\"blue\",\"orange\",\"green\",\"red\"], ylim=None):\n",
    "    bases = ['A','C','G','T']\n",
    "    \n",
    "    fig, axs = plt.subplots(4, 1, sharex=True, sharey=True)\n",
    "    plt.subplots_adjust(hspace=0)\n",
    "    if ylim:\n",
    "        axs[0].set_ylim(ylim)\n",
    "\n",
    "    for ax, b, c in zip(axs, bases, colors):\n",
    "        ax.plot(preds.loc[preds['allele'] == b, ['allele_pos']],\n",
    "                preds.loc[preds['allele'] == b, ['FC_to_ref']],\n",
    "                color=c)\n",
    "        ax.set_ylabel(f\"Allele={b}\")\n",
    "    axs[-1].set_xlabel(f\"Position on {signif_cres.loc[cre,'cre_chrom']}\")\n",
    "    plt.show()"
   ]
  },
  {
   "cell_type": "code",
   "execution_count": 35,
   "id": "bdf07bed-ff7b-4fd6-8c6c-bc609499afc1",
   "metadata": {},
   "outputs": [],
   "source": [
    "cre = 15 # choose one\n",
    "cre_preds = preds_for_cre(pred_table,\n",
    "                          signif_cres.iloc[cre][[\"cre_chrom\", \"cre_start\"]])"
   ]
  },
  {
   "cell_type": "code",
   "execution_count": 36,
   "id": "f2937532-8026-4874-988e-0837ca683c88",
   "metadata": {},
   "outputs": [
    {
     "data": {
      "text/html": [
       "<div>\n",
       "<style scoped>\n",
       "    .dataframe tbody tr th:only-of-type {\n",
       "        vertical-align: middle;\n",
       "    }\n",
       "\n",
       "    .dataframe tbody tr th {\n",
       "        vertical-align: top;\n",
       "    }\n",
       "\n",
       "    .dataframe thead th {\n",
       "        text-align: right;\n",
       "    }\n",
       "</style>\n",
       "<table border=\"1\" class=\"dataframe\">\n",
       "  <thead>\n",
       "    <tr style=\"text-align: right;\">\n",
       "      <th></th>\n",
       "      <th>cre_chrom</th>\n",
       "      <th>cre_start</th>\n",
       "      <th>allele_pos</th>\n",
       "      <th>allele</th>\n",
       "      <th>FC_to_ref</th>\n",
       "    </tr>\n",
       "  </thead>\n",
       "  <tbody>\n",
       "    <tr>\n",
       "      <th>0</th>\n",
       "      <td>chr4</td>\n",
       "      <td>157315425</td>\n",
       "      <td>157315425</td>\n",
       "      <td>G</td>\n",
       "      <td>-0.013549</td>\n",
       "    </tr>\n",
       "    <tr>\n",
       "      <th>1</th>\n",
       "      <td>chr4</td>\n",
       "      <td>157315425</td>\n",
       "      <td>157315425</td>\n",
       "      <td>C</td>\n",
       "      <td>0.000149</td>\n",
       "    </tr>\n",
       "    <tr>\n",
       "      <th>2</th>\n",
       "      <td>chr4</td>\n",
       "      <td>157315425</td>\n",
       "      <td>157315425</td>\n",
       "      <td>A</td>\n",
       "      <td>0.000429</td>\n",
       "    </tr>\n",
       "    <tr>\n",
       "      <th>3</th>\n",
       "      <td>chr4</td>\n",
       "      <td>157315425</td>\n",
       "      <td>157315425</td>\n",
       "      <td>T</td>\n",
       "      <td>0.000000</td>\n",
       "    </tr>\n",
       "    <tr>\n",
       "      <th>4</th>\n",
       "      <td>chr4</td>\n",
       "      <td>157315425</td>\n",
       "      <td>157315426</td>\n",
       "      <td>G</td>\n",
       "      <td>-0.002157</td>\n",
       "    </tr>\n",
       "    <tr>\n",
       "      <th>...</th>\n",
       "      <td>...</td>\n",
       "      <td>...</td>\n",
       "      <td>...</td>\n",
       "      <td>...</td>\n",
       "      <td>...</td>\n",
       "    </tr>\n",
       "    <tr>\n",
       "      <th>1175</th>\n",
       "      <td>chr4</td>\n",
       "      <td>157315425</td>\n",
       "      <td>157315718</td>\n",
       "      <td>T</td>\n",
       "      <td>0.000000</td>\n",
       "    </tr>\n",
       "    <tr>\n",
       "      <th>1176</th>\n",
       "      <td>chr4</td>\n",
       "      <td>157315425</td>\n",
       "      <td>157315719</td>\n",
       "      <td>G</td>\n",
       "      <td>0.004115</td>\n",
       "    </tr>\n",
       "    <tr>\n",
       "      <th>1177</th>\n",
       "      <td>chr4</td>\n",
       "      <td>157315425</td>\n",
       "      <td>157315719</td>\n",
       "      <td>C</td>\n",
       "      <td>0.000861</td>\n",
       "    </tr>\n",
       "    <tr>\n",
       "      <th>1178</th>\n",
       "      <td>chr4</td>\n",
       "      <td>157315425</td>\n",
       "      <td>157315719</td>\n",
       "      <td>A</td>\n",
       "      <td>0.003521</td>\n",
       "    </tr>\n",
       "    <tr>\n",
       "      <th>1179</th>\n",
       "      <td>chr4</td>\n",
       "      <td>157315425</td>\n",
       "      <td>157315719</td>\n",
       "      <td>T</td>\n",
       "      <td>0.000000</td>\n",
       "    </tr>\n",
       "  </tbody>\n",
       "</table>\n",
       "<p>1180 rows × 5 columns</p>\n",
       "</div>"
      ],
      "text/plain": [
       "     cre_chrom  cre_start  allele_pos allele  FC_to_ref\n",
       "0         chr4  157315425   157315425      G  -0.013549\n",
       "1         chr4  157315425   157315425      C   0.000149\n",
       "2         chr4  157315425   157315425      A   0.000429\n",
       "3         chr4  157315425   157315425      T   0.000000\n",
       "4         chr4  157315425   157315426      G  -0.002157\n",
       "...        ...        ...         ...    ...        ...\n",
       "1175      chr4  157315425   157315718      T   0.000000\n",
       "1176      chr4  157315425   157315719      G   0.004115\n",
       "1177      chr4  157315425   157315719      C   0.000861\n",
       "1178      chr4  157315425   157315719      A   0.003521\n",
       "1179      chr4  157315425   157315719      T   0.000000\n",
       "\n",
       "[1180 rows x 5 columns]"
      ]
     },
     "execution_count": 36,
     "metadata": {},
     "output_type": "execute_result"
    }
   ],
   "source": [
    "cre_preds"
   ]
  },
  {
   "cell_type": "code",
   "execution_count": 37,
   "id": "8eb49037-e75a-46d1-bb35-007afc4c4d09",
   "metadata": {},
   "outputs": [
    {
     "data": {
      "image/png": "[encoded data removed]",
      "text/plain": [
       "<Figure size 640x480 with 4 Axes>"
      ]
     },
     "metadata": {},
     "output_type": "display_data"
    }
   ],
   "source": [
    "plot_variant_effect_profiles(cre_preds, ylim=(-0.3, 0.4))"
   ]
  },
  {
   "cell_type": "code",
   "execution_count": null,
   "id": "46a42bca-dfaf-4e59-8a29-983b4986d011",
   "metadata": {},
   "outputs": [],
   "source": []
  }
 ],
 "metadata": {
  "kernelspec": {
   "display_name": "Python 3 (ipykernel)",
   "language": "python",
   "name": "python3"
  },
  "language_info": {
   "codemirror_mode": {
    "name": "ipython",
    "version": 3
   },
   "file_extension": ".py",
   "mimetype": "text/x-python",
   "name": "python",
   "nbconvert_exporter": "python",
   "pygments_lexer": "ipython3",
   "version": "3.11.10"
  }
 },
 "nbformat": 4,
 "nbformat_minor": 5
}
